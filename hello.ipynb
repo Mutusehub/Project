{
 "cells": [
  {
   "cell_type": "code",
   "execution_count": 15,
   "id": "57531257",
   "metadata": {},
   "outputs": [],
   "source": [
    "import sys\n",
    "\n",
    "if \"google.colab\" in sys.modules:\n",
    "    # Mount Google Drive\n",
    "    from google.colab import drive\n",
    "    drive.mount('/content/drive')\n",
    "\n",
    "    # Install required packages\n",
    "    !pip install ase torch_geometric\n",
    "    import torch\n",
    "    from torch_geometric.data import Data, DataLoader\n",
    "\n",
    "    dataset = \"/content/drive/My Drive/Dataset\"\n",
    "else:\n",
    "    dataset = \"Dataset\""
   ]
  },
  {
   "cell_type": "code",
   "execution_count": 16,
   "metadata": {},
   "outputs": [],
   "source": [
    "import pandas as pd\n",
    "import numpy as np"
   ]
  },
  {
   "cell_type": "code",
   "execution_count": 17,
   "id": "05ed75a2",
   "metadata": {},
   "outputs": [
    {
     "data": {
      "text/html": [
       "<div>\n",
       "<style scoped>\n",
       "    .dataframe tbody tr th:only-of-type {\n",
       "        vertical-align: middle;\n",
       "    }\n",
       "\n",
       "    .dataframe tbody tr th {\n",
       "        vertical-align: top;\n",
       "    }\n",
       "\n",
       "    .dataframe thead th {\n",
       "        text-align: right;\n",
       "    }\n",
       "</style>\n",
       "<table border=\"1\" class=\"dataframe\">\n",
       "  <thead>\n",
       "    <tr style=\"text-align: right;\">\n",
       "      <th></th>\n",
       "      <th>id</th>\n",
       "      <th>formula</th>\n",
       "      <th>structure</th>\n",
       "      <th>energies</th>\n",
       "      <th>absorption_coefficient</th>\n",
       "      <th>imag_dielectric</th>\n",
       "      <th>real_dielectric</th>\n",
       "      <th>energy_max</th>\n",
       "      <th>bandgap</th>\n",
       "    </tr>\n",
       "  </thead>\n",
       "  <tbody>\n",
       "    <tr>\n",
       "      <th>0</th>\n",
       "      <td>mp-546266</td>\n",
       "      <td>DyBi2IO4</td>\n",
       "      <td>(Atom('Dy', [np.float64(0.0), np.float64(0.0),...</td>\n",
       "      <td>[0.0, 0.0277, 0.0554, 0.0831, 0.1109, 0.1386, ...</td>\n",
       "      <td>[0.0, 0.8362304735329499, 3.309178082718349, 7...</td>\n",
       "      <td>[0.0, 0.0015666666666666665, 0.0031, 0.0046666...</td>\n",
       "      <td>[6.9163, 6.916533333333334, 6.9172, 6.9182, 6....</td>\n",
       "      <td>55.4328</td>\n",
       "      <td>1.3818000000000001</td>\n",
       "    </tr>\n",
       "    <tr>\n",
       "      <th>1</th>\n",
       "      <td>mp-9583</td>\n",
       "      <td>K2ZnF4</td>\n",
       "      <td>(Atom('K', [np.float64(1.2531985199117757), np...</td>\n",
       "      <td>[0.0, 0.0399, 0.0798, 0.1197, 0.1596, 0.1995, ...</td>\n",
       "      <td>[0.0, 0.1362578822994739, 0.4541860898852432, ...</td>\n",
       "      <td>[0.0, 0.0001, 0.00016666666666666666, 0.0002, ...</td>\n",
       "      <td>[2.2021333333333333, 2.202166666666667, 2.2022...</td>\n",
       "      <td>79.7804</td>\n",
       "      <td>4.3866</td>\n",
       "    </tr>\n",
       "    <tr>\n",
       "      <th>2</th>\n",
       "      <td>mp-22988</td>\n",
       "      <td>CsGeCl3</td>\n",
       "      <td>(Atom('Cs', [np.float64(7.78333021211009), np....</td>\n",
       "      <td>[0.0, 0.029, 0.058, 0.087, 0.116, 0.1449, 0.17...</td>\n",
       "      <td>[0.0, 0.515935972729374, 2.0145311056971553, 4...</td>\n",
       "      <td>[0.0, 0.0007, 0.0013666666666666669, 0.0020333...</td>\n",
       "      <td>[3.975733333333333, 3.9758333333333336, 3.9761...</td>\n",
       "      <td>57.9759</td>\n",
       "      <td>2.178</td>\n",
       "    </tr>\n",
       "    <tr>\n",
       "      <th>3</th>\n",
       "      <td>mp-861502</td>\n",
       "      <td>AcFeO3</td>\n",
       "      <td>(Atom('Ac', [np.float64(0.0), np.float64(0.0),...</td>\n",
       "      <td>[0.0, 0.0587, 0.1174, 0.176, 0.2347, 0.2934, 0...</td>\n",
       "      <td>[0.0, 11295.053197761259, 44864.495977063896, ...</td>\n",
       "      <td>[0.0, 30.1914, 49.9196, 37.98413333333333, 21....</td>\n",
       "      <td>[67.54320000000001, 59.6215, 29.6067, 1.281, -...</td>\n",
       "      <td>117.3625</td>\n",
       "      <td>0.0</td>\n",
       "    </tr>\n",
       "    <tr>\n",
       "      <th>4</th>\n",
       "      <td>mp-1025029</td>\n",
       "      <td>PrHSe</td>\n",
       "      <td>(Atom('Pr', [np.float64(-2.0265362), np.float6...</td>\n",
       "      <td>[0.0, 0.0365, 0.073, 0.1095, 0.1459, 0.1824, 0...</td>\n",
       "      <td>[0.0, 1.6849892209331498, 6.697792903781345, 1...</td>\n",
       "      <td>[0.0, 0.0026999999999999997, 0.005366666666666...</td>\n",
       "      <td>[8.784633333333334, 8.7851, 8.786566666666667,...</td>\n",
       "      <td>72.9718</td>\n",
       "      <td>1.9455999999999998</td>\n",
       "    </tr>\n",
       "  </tbody>\n",
       "</table>\n",
       "</div>"
      ],
      "text/plain": [
       "           id   formula                                          structure  \\\n",
       "0   mp-546266  DyBi2IO4  (Atom('Dy', [np.float64(0.0), np.float64(0.0),...   \n",
       "1     mp-9583    K2ZnF4  (Atom('K', [np.float64(1.2531985199117757), np...   \n",
       "2    mp-22988   CsGeCl3  (Atom('Cs', [np.float64(7.78333021211009), np....   \n",
       "3   mp-861502    AcFeO3  (Atom('Ac', [np.float64(0.0), np.float64(0.0),...   \n",
       "4  mp-1025029     PrHSe  (Atom('Pr', [np.float64(-2.0265362), np.float6...   \n",
       "\n",
       "                                            energies  \\\n",
       "0  [0.0, 0.0277, 0.0554, 0.0831, 0.1109, 0.1386, ...   \n",
       "1  [0.0, 0.0399, 0.0798, 0.1197, 0.1596, 0.1995, ...   \n",
       "2  [0.0, 0.029, 0.058, 0.087, 0.116, 0.1449, 0.17...   \n",
       "3  [0.0, 0.0587, 0.1174, 0.176, 0.2347, 0.2934, 0...   \n",
       "4  [0.0, 0.0365, 0.073, 0.1095, 0.1459, 0.1824, 0...   \n",
       "\n",
       "                              absorption_coefficient  \\\n",
       "0  [0.0, 0.8362304735329499, 3.309178082718349, 7...   \n",
       "1  [0.0, 0.1362578822994739, 0.4541860898852432, ...   \n",
       "2  [0.0, 0.515935972729374, 2.0145311056971553, 4...   \n",
       "3  [0.0, 11295.053197761259, 44864.495977063896, ...   \n",
       "4  [0.0, 1.6849892209331498, 6.697792903781345, 1...   \n",
       "\n",
       "                                     imag_dielectric  \\\n",
       "0  [0.0, 0.0015666666666666665, 0.0031, 0.0046666...   \n",
       "1  [0.0, 0.0001, 0.00016666666666666666, 0.0002, ...   \n",
       "2  [0.0, 0.0007, 0.0013666666666666669, 0.0020333...   \n",
       "3  [0.0, 30.1914, 49.9196, 37.98413333333333, 21....   \n",
       "4  [0.0, 0.0026999999999999997, 0.005366666666666...   \n",
       "\n",
       "                                     real_dielectric energy_max  \\\n",
       "0  [6.9163, 6.916533333333334, 6.9172, 6.9182, 6....    55.4328   \n",
       "1  [2.2021333333333333, 2.202166666666667, 2.2022...    79.7804   \n",
       "2  [3.975733333333333, 3.9758333333333336, 3.9761...    57.9759   \n",
       "3  [67.54320000000001, 59.6215, 29.6067, 1.281, -...   117.3625   \n",
       "4  [8.784633333333334, 8.7851, 8.786566666666667,...    72.9718   \n",
       "\n",
       "              bandgap  \n",
       "0  1.3818000000000001  \n",
       "1              4.3866  \n",
       "2               2.178  \n",
       "3                 0.0  \n",
       "4  1.9455999999999998  "
      ]
     },
     "execution_count": 17,
     "metadata": {},
     "output_type": "execute_result"
    }
   ],
   "source": [
    "data_df = pd.read_pickle(f\"{dataset}/absorption_mp_data.pkl\")\n",
    "data_df.head()"
   ]
  },
  {
   "cell_type": "code",
   "execution_count": 18,
   "id": "bc251534",
   "metadata": {},
   "outputs": [],
   "source": [
    "def get_mean(row):\n",
    "    '''row[\"abs_coeff_mean\"] = np.average(row[\"absorption_coefficient\"])\n",
    "    row[\"energies_mean\"] = np.average(row[\"energies\"])\n",
    "    row[\"imag_dielectric_mean\"] = np.average(row[\"imag_dielectric\"])\n",
    "    row[\"real_dielectric_mean\"] = np.average(row[\"real_dielectric\"])'''\n",
    "    row[\"unit_cell_volume\"] = row[\"structure\"].get_volume()\n",
    "    return row\n",
    "\n",
    "data_df = data_df.apply(lambda row: get_mean(row), axis=1)"
   ]
  },
  {
   "cell_type": "code",
   "execution_count": 19,
   "id": "3604f644",
   "metadata": {},
   "outputs": [
    {
     "data": {
      "text/plain": [
       "'\\ndata_copy = data_df.copy()\\ndata_copy= data_copy.drop([\"id\", \"formula\", \"structure\", \"absorption_coefficient\", \"energies\", \"imag_dielectric\", \"real_dielectric\"], axis=1)\\nsample_corr = data_copy.corr()\\nsample_corr'"
      ]
     },
     "execution_count": 19,
     "metadata": {},
     "output_type": "execute_result"
    }
   ],
   "source": [
    "# Find correlations\n",
    "'''\n",
    "data_copy = data_df.copy()\n",
    "data_copy= data_copy.drop([\"id\", \"formula\", \"structure\", \"absorption_coefficient\", \"energies\", \"imag_dielectric\", \"real_dielectric\"], axis=1)\n",
    "sample_corr = data_copy.corr()\n",
    "sample_corr'''"
   ]
  },
  {
   "cell_type": "markdown",
   "id": "c635658a",
   "metadata": {},
   "source": [
    "### Split the data into train, validation, and test sets"
   ]
  },
  {
   "cell_type": "code",
   "execution_count": null,
   "id": "0203a5fc",
   "metadata": {},
   "outputs": [],
   "source": [
    "from sklearn.model_selection import train_test_split\n",
    "\n",
    "train, the_test = train_test_split(data_df, test_size=0.2, random_state=42)\n",
    "\n",
    "val,testing = train_test_split(the_test, test_size=0.5, random_state=42)"
   ]
  },
  {
   "cell_type": "code",
   "execution_count": 20,
   "id": "71893b6d",
   "metadata": {},
   "outputs": [
    {
     "name": "stdout",
     "output_type": "stream",
     "text": [
      "Atoms(symbols='K2ZnF4', pbc=True, cell=[[3.87855986, 0.0, -1.1469436], [-0.33916743, 3.86370258, -1.1469436], [-0.00357393, -0.00390187, 7.11934679]])\n"
     ]
    }
   ],
   "source": [
    "# The structure column is already an atom\n",
    "a_structure = data_df[\"structure\"][1]\n",
    "print(a_structure)"
   ]
  },
  {
   "cell_type": "code",
   "execution_count": 21,
   "id": "f7644a09",
   "metadata": {},
   "outputs": [
    {
     "name": "stdout",
     "output_type": "stream",
     "text": [
      "[[0.         3.95563414 4.62617937 5.04888136 5.04888143 2.86302\n",
      "  2.60031286]\n",
      " [3.95563414 0.         3.4299493  2.77035814 2.77035784 2.60031286\n",
      "  2.86302   ]\n",
      " [4.62617937 3.4299493  0.         2.02229487 2.02229522 5.3266708\n",
      "  2.02586651]\n",
      " [5.04888136 2.77035814 2.02229487 0.         2.85995722 4.92785317\n",
      "  2.86248483]\n",
      " [5.04888143 2.77035784 2.02229522 2.85995722 0.         4.92785296\n",
      "  2.86248502]\n",
      " [2.86302    2.60031286 5.3266708  4.92785317 4.92785296 0.\n",
      "  3.77756265]\n",
      " [2.60031286 2.86302    2.02586651 2.86248483 2.86248502 3.77756265\n",
      "  0.        ]]\n",
      "F4K2Zn\n",
      "['K', 'K', 'Zn', 'F', 'F', 'F', 'F']\n",
      "[[ 1.25319852  1.36802722  4.23786864]\n",
      " [ 2.28261998  2.49177349  0.58759095]\n",
      " [ 0.          0.          0.        ]\n",
      " [ 1.93927993  0.         -0.5734718 ]\n",
      " [-0.16958371  1.93185129 -0.5734718 ]\n",
      " [ 2.98702846  3.26072587  2.96963795]\n",
      " [ 0.54879004  0.59907484  1.85582164]]\n",
      "106.65298266178146\n"
     ]
    }
   ],
   "source": [
    "# What can we do with the whole structure?\n",
    "print(a_structure.get_all_distances())\n",
    "#print(a_structure.get_cell())\n",
    "print(a_structure.get_chemical_formula())\n",
    "#print(a_structure.get_atomic_numbers())\n",
    "print(a_structure.get_chemical_symbols())\n",
    "#print(a_structure.get_distance(a0=0, a1=1))\n",
    "#print(a_structure. get_distances(0,2))\n",
    "#print(a_structure.get_global_number_of_atoms())\n",
    "#print(a_structure.get_initial_charges())\n",
    "#print(a_structure.get_kinetic_energy())\n",
    "#print(a_structure.get_pbc())\n",
    "print(a_structure.get_positions())\n",
    "print(a_structure.get_volume())\n",
    "#print(a_structure.get_masses()) # Get atomic mass of each atom in the structure\n",
    "#print(a_structure.get_momenta()) # Get the momenta of each atom in the structure\n",
    "#print(a_structure.get_moments_of_inertia()) # Get the moments of inertia in the structure\n",
    "#print(a_structure.get_angular_momentum())\n",
    "#print(a_structure.get_initial_magnetic_moments())\n",
    "#print(a_structure.get_atomic_numbers())\n",
    "#print(a_structure.get_tags())\n",
    "#print(a_structure.get_angle(0,1,2))"
   ]
  },
  {
   "cell_type": "markdown",
   "id": "b9b47a66",
   "metadata": {},
   "source": [
    "## Get nodes, edges, global_attributes, target_attributes"
   ]
  },
  {
   "cell_type": "code",
   "execution_count": 9,
   "id": "19436e75",
   "metadata": {},
   "outputs": [
    {
     "name": "stdout",
     "output_type": "stream",
     "text": [
      "[[np.int64(19), np.float64(39.0983), np.float64(2.03)], [np.int64(19), np.float64(39.0983), np.float64(2.03)], [np.int64(30), np.float64(65.38), np.float64(1.22)], [np.int64(9), np.float64(18.998403163), np.float64(0.57)], [np.int64(9), np.float64(18.998403163), np.float64(0.57)], [np.int64(9), np.float64(18.998403163), np.float64(0.57)], [np.int64(9), np.float64(18.998403163), np.float64(0.57)]]\n"
     ]
    }
   ],
   "source": [
    "# Get nodes of structure\n",
    "from ase.data import atomic_masses, covalent_radii\n",
    "#from ase.data.polarizabilities import atomic_polarizability \n",
    "\n",
    "all_nodes = []\n",
    "for i in a_structure:\n",
    "    Z = i.number\n",
    "    # Atomic mass (from ASE database)\n",
    "    mass = atomic_masses[Z]\n",
    "    \n",
    "    # Covalent radius (from ASE database)\n",
    "    radius = covalent_radii[Z]\n",
    "    \n",
    "    # Dipole polarizability (from separate module or custom dictionary)\n",
    "    #polarizability = atomic_polarizability.get(Z, 0.0)  \n",
    "    the_nodes = [Z, mass, radius]\n",
    "    all_nodes.append(the_nodes)\n",
    "\n",
    "print(all_nodes)"
   ]
  },
  {
   "cell_type": "code",
   "execution_count": null,
   "id": "951aa74f",
   "metadata": {},
   "outputs": [
    {
     "name": "stdout",
     "output_type": "stream",
     "text": [
      "[[0, 0, 0, 0, 0, 0, 1, 1, 1, 1, 1, 1, 2, 2, 2, 2, 2, 2, 3, 3, 3, 3, 3, 3, 4, 4, 4, 4, 4, 4, 5, 5, 5, 5, 5, 5, 6, 6, 6, 6, 6, 6], [1, 2, 3, 4, 5, 6, 0, 2, 3, 4, 5, 6, 0, 1, 3, 4, 5, 6, 0, 1, 2, 4, 5, 6, 0, 1, 2, 3, 5, 6, 0, 1, 2, 3, 4, 6, 0, 1, 2, 3, 4, 5]]\n"
     ]
    }
   ],
   "source": [
    "# Get total number of atoms in the structure\n",
    "num_atoms = a_structure.get_global_number_of_atoms()\n",
    "\n",
    "edges = []\n",
    "\n",
    "from_node = []\n",
    "to_node = []\n",
    "for i in range(num_atoms):\n",
    "    for j in range(num_atoms):\n",
    "        if i==j:\n",
    "            pass\n",
    "        else:\n",
    "            from_node.append(i)\n",
    "            to_node.append(j)\n",
    "\n",
    "edges=[from_node, to_node]\n",
    "print(edges)"
   ]
  },
  {
   "cell_type": "code",
   "execution_count": 15,
   "id": "ea31ef3a",
   "metadata": {},
   "outputs": [
    {
     "name": "stdout",
     "output_type": "stream",
     "text": [
      "[np.float64(151.13454136559216)]\n"
     ]
    }
   ],
   "source": [
    "# Get global attributes\n",
    "an_index = 0\n",
    "global_att = [data_df[\"unit_cell_volume\"][an_index]]\n",
    "print(global_att)"
   ]
  },
  {
   "cell_type": "code",
   "execution_count": null,
   "id": "550064a1",
   "metadata": {},
   "outputs": [
    {
     "name": "stdout",
     "output_type": "stream",
     "text": [
      "[0.00000000e+00 8.36230474e-01 3.30917808e+00 ... 1.81631330e+03\n",
      " 1.81701042e+03 1.81774592e+03]\n"
     ]
    }
   ],
   "source": [
    "# Get the target values\n",
    "targ = data_df[\"absorption_coefficient\"]\n",
    "print(targ)"
   ]
  },
  {
   "cell_type": "markdown",
   "id": "33f37ef7",
   "metadata": {},
   "source": [
    "## Now as a function that will iterate through the whole dataset"
   ]
  },
  {
   "cell_type": "code",
   "execution_count": null,
   "id": "163a9026",
   "metadata": {},
   "outputs": [],
   "source": [
    "from ase.data import atomic_masses, covalent_radii\n",
    "def get_graphical(row):\n",
    "    # Get nodes of structure\n",
    "    all_nodes = []\n",
    "    for i in row[\"structure\"]:\n",
    "        Z = i.number\n",
    "        # Atomic mass (from ASE database)\n",
    "        mass = atomic_masses[Z]\n",
    "        \n",
    "        # Covalent radius (from ASE database)\n",
    "        radius = covalent_radii[Z]\n",
    "        \n",
    "        the_nodes = [Z, mass, radius]\n",
    "        all_nodes.append(the_nodes)\n",
    "\n",
    "    # Get edges        \n",
    "    num_atoms = row[\"structure\"].get_global_number_of_atoms()\n",
    "\n",
    "    edges = []\n",
    "\n",
    "    from_node = []\n",
    "    to_node = []\n",
    "\n",
    "    for i in range(num_atoms):\n",
    "        for j in range(num_atoms):\n",
    "            if i==j:\n",
    "                pass\n",
    "            else:\n",
    "                from_node.append(i)\n",
    "                to_node.append(j)\n",
    "\n",
    "    edges=[from_node, to_node]\n",
    "\n",
    "    # Get global attributes\n",
    "    global_att = [row[\"unit_cell_volume\"]]\n",
    "\n",
    "    # Get target attribute\n",
    "    target_att = [row[\"absorption_coefficient\"]]\n",
    "\n",
    "    # Represent all these features as tensor objects\n",
    "    the_data = Data(x=torch.tensor(all_nodes, dtype=float), edge_index=torch.tensor(edges, dtyype= long), \n",
    "                    u=torch.tensor(global_att, dtype= float), y=torch.tensor(target_att, dtype=float))\n",
    "    return the_data\n",
    "    # return [all_nodes, edges, global_att, target_att]\n",
    "\n",
    "sample = data_df.apply(lambda row: get_graphical(row), axis=1)\n",
    "print(sample[0])"
   ]
  },
  {
   "cell_type": "markdown",
   "id": "0bf7dd3d",
   "metadata": {},
   "source": [
    "## Save the data "
   ]
  },
  {
   "cell_type": "code",
   "execution_count": null,
   "id": "2bda7808",
   "metadata": {},
   "outputs": [],
   "source": [
    "torch.save(sample, f\"{dataset}/the_data.pt\")"
   ]
  },
  {
   "cell_type": "markdown",
   "id": "9e9fdce5",
   "metadata": {},
   "source": [
    "## Split the data"
   ]
  },
  {
   "cell_type": "code",
   "execution_count": null,
   "id": "240fea70",
   "metadata": {},
   "outputs": [],
   "source": []
  }
 ],
 "metadata": {
  "kernelspec": {
   "display_name": "MUTUSE",
   "language": "python",
   "name": "python3"
  },
  "language_info": {
   "codemirror_mode": {
    "name": "ipython",
    "version": 3
   },
   "file_extension": ".py",
   "mimetype": "text/x-python",
   "name": "python",
   "nbconvert_exporter": "python",
   "pygments_lexer": "ipython3",
   "version": "3.13.3"
  }
 },
 "nbformat": 4,
 "nbformat_minor": 5
}
