{
 "cells": [
  {
   "cell_type": "code",
   "execution_count": null,
   "id": "57531257",
   "metadata": {},
   "outputs": [],
   "source": [
    "import sys\n",
    "\n",
    "if \"google.colab\" in sys.modules:\n",
    "    # Mount Google Drive\n",
    "    from google.colab import drive\n",
    "    drive.mount('/content/drive')\n",
    "\n",
    "    # Install required packages\n",
    "    !pip install ase torch_geometric\n",
    "    import torch\n",
    "    from torch_geometric.data import Data, DataLoader\n",
    "\n",
    "    dataset = \"/content/drive/My Drive/Dataset\"\n",
    "else:\n",
    "    dataset = \"Dataset\""
   ]
  },
  {
   "cell_type": "code",
   "execution_count": null,
   "metadata": {},
   "outputs": [],
   "source": [
    "import pandas as pd\n",
    "import numpy as np"
   ]
  },
  {
   "cell_type": "code",
   "execution_count": null,
   "id": "05ed75a2",
   "metadata": {},
   "outputs": [],
   "source": [
    "data_df = pd.read_pickle(f\"{dataset}/absorption_mp_data.pkl\")\n",
    "data_df.head()"
   ]
  },
  {
   "cell_type": "code",
   "execution_count": null,
   "id": "bc251534",
   "metadata": {},
   "outputs": [],
   "source": [
    "def get_mean(row):\n",
    "    '''row[\"abs_coeff_mean\"] = np.average(row[\"absorption_coefficient\"])\n",
    "    row[\"energies_mean\"] = np.average(row[\"energies\"])\n",
    "    row[\"imag_dielectric_mean\"] = np.average(row[\"imag_dielectric\"])\n",
    "    row[\"real_dielectric_mean\"] = np.average(row[\"real_dielectric\"])'''\n",
    "    row[\"unit_cell_volume\"] = row[\"structure\"].get_volume()\n",
    "    return row\n",
    "\n",
    "data_df = data_df.apply(lambda row: get_mean(row), axis=1)\n"
   ]
  },
  {
   "cell_type": "code",
   "execution_count": null,
   "id": "3604f644",
   "metadata": {},
   "outputs": [],
   "source": [
    "# Find correlations\n",
    "'''\n",
    "data_copy = data_df.copy()\n",
    "data_copy= data_copy.drop([\"id\", \"formula\", \"structure\", \"absorption_coefficient\", \"energies\", \"imag_dielectric\", \"real_dielectric\"], axis=1)\n",
    "sample_corr = data_copy.corr()\n",
    "sample_corr'''"
   ]
  },
  {
   "cell_type": "markdown",
   "id": "c635658a",
   "metadata": {},
   "source": [
    "### Split the data into train, validation, and test sets"
   ]
  },
  {
   "cell_type": "code",
   "execution_count": null,
   "id": "0203a5fc",
   "metadata": {},
   "outputs": [],
   "source": [
    "from sklearn.model_selection import train_test_split\n",
    "\n",
    "train, the_test = train_test_split(data_df, test_size=0.2, random_state=42)\n",
    "\n",
    "val,testing = train_test_split(the_test, test_size=0.5, random_state=42)"
   ]
  },
  {
   "cell_type": "code",
   "execution_count": null,
   "id": "71893b6d",
   "metadata": {},
   "outputs": [],
   "source": [
    "# The structure column is already an atom\n",
    "a_structure = data_df[\"structure\"][1]\n",
    "print(a_structure)"
   ]
  },
  {
   "cell_type": "code",
   "execution_count": null,
   "id": "f7644a09",
   "metadata": {},
   "outputs": [],
   "source": [
    "# What can we do with the whole structure?\n",
    "print(a_structure.get_all_distances())\n",
    "#print(a_structure.get_cell())\n",
    "print(a_structure.get_chemical_formula())\n",
    "#print(a_structure.get_atomic_numbers())\n",
    "print(a_structure.get_chemical_symbols())\n",
    "#print(a_structure.get_distance(a0=0, a1=1))\n",
    "#print(a_structure. get_distances(0,2))\n",
    "#print(a_structure.get_global_number_of_atoms())\n",
    "#print(a_structure.get_initial_charges())\n",
    "#print(a_structure.get_kinetic_energy())\n",
    "#print(a_structure.get_pbc())\n",
    "print(a_structure.get_positions())\n",
    "print(a_structure.get_volume())\n",
    "#print(a_structure.get_masses()) # Get atomic mass of each atom in the structure\n",
    "#print(a_structure.get_momenta()) # Get the momenta of each atom in the structure\n",
    "#print(a_structure.get_moments_of_inertia()) # Get the moments of inertia in the structure\n",
    "#print(a_structure.get_angular_momentum())\n",
    "#print(a_structure.get_initial_magnetic_moments())\n",
    "#print(a_structure.get_atomic_numbers())\n",
    "#print(a_structure.get_tags())\n",
    "#print(a_structure.get_angle(0,1,2))"
   ]
  },
  {
   "cell_type": "markdown",
   "id": "b9b47a66",
   "metadata": {},
   "source": [
    "## Get nodes, edges, global_attributes, target_attributes"
   ]
  },
  {
   "cell_type": "code",
   "execution_count": null,
   "id": "19436e75",
   "metadata": {},
   "outputs": [],
   "source": [
    "# Get nodes of structure\n",
    "from ase.data import atomic_masses, covalent_radii\n",
    "#from ase.data.polarizabilities import atomic_polarizability \n",
    "\n",
    "all_nodes = []\n",
    "for i in a_structure:\n",
    "    Z = i.number\n",
    "    # Atomic mass (from ASE database)\n",
    "    mass = atomic_masses[Z]\n",
    "    \n",
    "    # Covalent radius (from ASE database)\n",
    "    radius = covalent_radii[Z]\n",
    "    \n",
    "    # Dipole polarizability (from separate module or custom dictionary)\n",
    "    #polarizability = atomic_polarizability.get(Z, 0.0)  \n",
    "    the_nodes = [Z, mass, radius]\n",
    "    all_nodes.append(the_nodes)\n",
    "\n",
    "print(all_nodes)"
   ]
  },
  {
   "cell_type": "code",
   "execution_count": null,
   "id": "951aa74f",
   "metadata": {},
   "outputs": [],
   "source": [
    "# Get total number of atoms in the structure\n",
    "num_atoms = a_structure.get_global_number_of_atoms()\n",
    "\n",
    "edges = []\n",
    "\n",
    "from_node = []\n",
    "to_node = []\n",
    "for i in range(num_atoms):\n",
    "    for j in range(num_atoms):\n",
    "        if i==j:\n",
    "            pass\n",
    "        else:\n",
    "            from_node.append(i)\n",
    "            to_node.append(j)\n",
    "\n",
    "edges=[from_node, to_node]\n",
    "print(edges)\n"
   ]
  },
  {
   "cell_type": "code",
   "execution_count": null,
   "id": "137206be",
   "metadata": {},
   "outputs": [],
   "source": [
    "# Get global attributes\n",
    "an_index = 0\n",
    "global_att = [data_df[\"unit_cell_volume\"][an_index]]\n",
    "print(global_att)"
   ]
  },
  {
   "cell_type": "code",
   "execution_count": null,
   "id": "550064a1",
   "metadata": {},
   "outputs": [],
   "source": [
    "# Get the target values\n",
    "targ = data_df[\"absorption_coefficient\"][an_index]\n",
    "print(targ)"
   ]
  },
  {
   "cell_type": "markdown",
   "id": "33f37ef7",
   "metadata": {},
   "source": [
    "## Now as a function that will iterate through the whole dataset"
   ]
  },
  {
   "cell_type": "code",
   "execution_count": null,
   "id": "163a9026",
   "metadata": {},
   "outputs": [],
   "source": [
    "from ase.data import atomic_masses, covalent_radii\n",
    "def get_graphical(row):\n",
    "    # Get nodes of structure\n",
    "    all_nodes = []\n",
    "    for i in row[\"structure\"]:\n",
    "        Z = i.number\n",
    "        # Atomic mass (from ASE database)\n",
    "        mass = atomic_masses[Z]\n",
    "        \n",
    "        # Covalent radius (from ASE database)\n",
    "        radius = covalent_radii[Z]\n",
    "        \n",
    "        the_nodes = [Z, mass, radius]\n",
    "        all_nodes.append(the_nodes)\n",
    "\n",
    "    # Get edges        \n",
    "    num_atoms = row[\"structure\"].get_global_number_of_atoms()\n",
    "\n",
    "    edges = []\n",
    "\n",
    "    from_node = []\n",
    "    to_node = []\n",
    "\n",
    "    for i in range(num_atoms):\n",
    "        for j in range(num_atoms):\n",
    "            if i==j:\n",
    "                pass\n",
    "            else:\n",
    "                from_node.append(i)\n",
    "                to_node.append(j)\n",
    "\n",
    "    edges=[from_node, to_node]\n",
    "\n",
    "    # Get global attributes\n",
    "    global_att = [row[\"unit_cell_volume\"]]\n",
    "\n",
    "    # Get target attribute\n",
    "    target_att = [row[\"absorption_coefficient\"]]\n",
    "\n",
    "    # Represent all these features as tensor objects\n",
    "    the_data = Data(x=torch.tensor(all_nodes, dtype=float), edge_index=torch.tensor(edges, dtyype= long), \n",
    "                    u=torch.tensor(global_att, dtype= float), y=torch.tensor(target_att, dtype=float))\n",
    "    return the_data\n",
    "    # return [all_nodes, edges, global_att, target_att]\n",
    "\n",
    "sample = data_df.apply(lambda row: get_graphical(row), axis=1)\n",
    "print(sample[0])"
   ]
  },
  {
   "cell_type": "markdown",
   "id": "0bf7dd3d",
   "metadata": {},
   "source": [
    "## Save the data "
   ]
  },
  {
   "cell_type": "code",
   "execution_count": null,
   "id": "2bda7808",
   "metadata": {},
   "outputs": [],
   "source": [
    "torch.save(sample, f\"{dataset}/the_data.pt\")"
   ]
  },
  {
   "cell_type": "markdown",
   "id": "9e9fdce5",
   "metadata": {},
   "source": [
    "## Split the data"
   ]
  },
  {
   "cell_type": "code",
   "execution_count": null,
   "id": "240fea70",
   "metadata": {},
   "outputs": [],
   "source": []
  }
 ],
 "metadata": {
  "kernelspec": {
   "display_name": "MUTUSE",
   "language": "python",
   "name": "python3"
  },
  "language_info": {
   "codemirror_mode": {
    "name": "ipython",
    "version": 3
   },
   "file_extension": ".py",
   "mimetype": "text/x-python",
   "name": "python",
   "nbconvert_exporter": "python",
   "pygments_lexer": "ipython3",
   "version": "3.13.3"
  }
 },
 "nbformat": 4,
 "nbformat_minor": 5
}
