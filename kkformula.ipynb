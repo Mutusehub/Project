{
 "cells": [
  {
   "cell_type": "code",
   "execution_count": null,
   "id": "f1a6f496",
   "metadata": {},
   "outputs": [],
   "source": [
    "import sys\n",
    "\n",
    "if \"google.colab\" in sys.modules:\n",
    "    # Mount Google Drive\n",
    "    from google.colab import drive\n",
    "    drive.mount('/content/drive')\n",
    "\n",
    "    # Install required packages\n",
    "    !pip install ase torch_geometric\n",
    "    import torch\n",
    "    from torch_geometric.data import Data, DataLoader\n",
    "\n",
    "    dataset = \"/content/drive/My Drive/Dataset\"\n",
    "else:\n",
    "    dataset = \"Dataset\""
   ]
  },
  {
   "cell_type": "code",
   "execution_count": null,
   "id": "24aadad0",
   "metadata": {},
   "outputs": [],
   "source": [
    "import pandas as pd\n",
    "import numpy as np\n",
    "import scipy"
   ]
  },
  {
   "cell_type": "code",
   "execution_count": null,
   "id": "b831d2e7",
   "metadata": {},
   "outputs": [],
   "source": [
    "path_pkl = f\"{dataset}/absorption_mp_data.pkl\"\n",
    "pkl_df = pd.read_pickle(path_pkl)\n",
    "pkl_df.head()"
   ]
  },
  {
   "cell_type": "code",
   "execution_count": null,
   "id": "a9d76829",
   "metadata": {},
   "outputs": [],
   "source": [
    "sample_structure = np.array(pkl_df[\"structure\"][0])\n",
    "sample_structure"
   ]
  },
  {
   "cell_type": "markdown",
   "id": "b20c948b",
   "metadata": {},
   "source": [
    "## Krammer-Kronig's relation"
   ]
  },
  {
   "cell_type": "markdown",
   "id": "f1aded0e",
   "metadata": {},
   "source": [
    "$\\epsilon_1(\\omega)$ = real part of the dielectric function\n",
    "\n",
    "$\\epsilon_2(\\omega)$ = imaginary part of the dielectric funcion\n",
    "\n",
    "$\\alpha (\\omega)$ = absorption coefficient\n",
    "\n",
    "$n(\\omega)$ = real part of the refractive index\n",
    "\n",
    "$k(\\omega)$ = imaginary part of the refractive index\n",
    "\n",
    "$R(\\omega)$ = reflectance\n",
    "\n",
    "$\\omega$ = angular frequency = $\\frac{\\text{energy}}{\\hbar}$"
   ]
  },
  {
   "cell_type": "code",
   "execution_count": null,
   "id": "b5252b54",
   "metadata": {},
   "outputs": [],
   "source": [
    "print(scipy.constants.Planck)\n",
    "print(scipy.constants.physical_constants[\"electron volt-joule relationship\"][0])\n",
    "print(scipy.constants.pi)\n",
    "print(scipy.constants.c)\n"
   ]
  },
  {
   "cell_type": "code",
   "execution_count": null,
   "id": "be6314e9",
   "metadata": {},
   "outputs": [],
   "source": [
    "import scipy\n",
    "\n",
    "\n",
    "class Krammer_Kronig:\n",
    "    def __init__(self, real_dielectric, imag_dielectric, photon_energy):\n",
    "        self.real_dielectric = real_dielectric\n",
    "        self.imag_dielectric = imag_dielectric\n",
    "        self.photon_energy = photon_energy * scipy.constants.physical_constants[\"electron volt-joule relationship\"][0]\n",
    "        self.reduced_plank = scipy.constants.Planck/(2*scipy.constants.pi)\n",
    "        self.ang_frequency = self.photon_energy/self.reduced_plank\n",
    "\n",
    "    \n",
    "    def get_absorption_coff(self):\n",
    "        left= (np.sqrt(2)*self.ang_frequency)/(scipy.constants.c)\n",
    "        first_square_root = np.sqrt(np.square(self.real_dielectric) + np.square(self.imag_dielectric))\n",
    "        right = np.sqrt(first_square_root - self.real_dielectric)\n",
    "        # right = np.sqrt(np.sqrt(np.square(self.real_dielectric) + np.square(self.imag_dielectric)) - self.real_dielectric)\n",
    "        self.absorption_coff = left * right\n",
    "        return self.absorption_coff\n",
    "\n",
    "    # Since we can get n, k, and R from the real and iaginary parts of the dielectric...    \n",
    "    def get_real_refractive_index(self):\n",
    "        self.real_refractive = np.sqrt(0.5*(np.sqrt(np.square(self.real_dielectric)+np.square(self.imag_dielectric))+self.real_dielectric))\n",
    "        return self.real_refractive\n",
    "\n",
    "    def get_imag_refractiv_index(self):\n",
    "        self.imag_refractive = np.sqrt(0.5*(np.sqrt(np.square(self.real_dielectric)+np.square(self.imag_dielectric))-self.real_dielectric))\n",
    "        return self.imag_refractive\n",
    "\n",
    "    def get_reflectance(self):\n",
    "        num = np.square(self.real_refractive - 1) + np.squar(self.imag_refractive)\n",
    "        den = np.square(self.real_refractive + 1) + np.squar(self.imag_refractive)\n",
    "        self.reflectance = num/den\n",
    "        return self.reflectance\n"
   ]
  },
  {
   "cell_type": "code",
   "execution_count": null,
   "id": "7ce0cce7",
   "metadata": {},
   "outputs": [],
   "source": [
    "# Get absorption coefficient\n",
    "sample_real = pkl_df[\"real_dielectric\"][0][2]\n",
    "sample_imag = pkl_df[\"imag_dielectric\"][0][2]\n",
    "sample_energy = pkl_df[\"energies\"][0][2]\n",
    "\n",
    "print(sample_real)\n",
    "print(sample_imag)\n",
    "print(sample_energy)\n",
    "\n",
    "inst_1 = Krammer_Kronig(sample_real,sample_imag,sample_energy)\n",
    "result_coff = inst_1.get_absorption_coff()\n",
    "\n",
    "the_ref = pkl_df[\"absorption_coefficient\"][0][2]\n",
    "\n",
    "if result_coff == the_ref:\n",
    "    print(\"calculations work perfectly\")\n",
    "else:\n",
    "    print(f\"Actual value: {the_ref}\\nResult value: {result_coff}\")\n",
    "\n"
   ]
  },
  {
   "cell_type": "markdown",
   "id": "f91d86c0",
   "metadata": {},
   "source": [
    "Why is the $\\text{result value} = \\text{actual value} *100$?"
   ]
  }
 ],
 "metadata": {
  "kernelspec": {
   "display_name": "CODED",
   "language": "python",
   "name": "python3"
  },
  "language_info": {
   "codemirror_mode": {
    "name": "ipython",
    "version": 3
   },
   "file_extension": ".py",
   "mimetype": "text/x-python",
   "name": "python",
   "nbconvert_exporter": "python",
   "pygments_lexer": "ipython3",
   "version": "3.13.2"
  }
 },
 "nbformat": 4,
 "nbformat_minor": 5
}
