{
 "cells": [
  {
   "cell_type": "code",
   "execution_count": null,
   "id": "f1a6f496",
   "metadata": {},
   "outputs": [],
   "source": [
    "import sys\n",
    "\n",
    "if \"google.colab\" in sys.modules:\n",
    "    # Mount Google Drive\n",
    "    from google.colab import drive\n",
    "    drive.mount('/content/drive')\n",
    "\n",
    "    # Install required packages\n",
    "    !pip install ase torch_geometric\n",
    "    import torch\n",
    "    from torch_geometric.data import Data, DataLoader\n",
    "\n",
    "    dataset = \"/content/drive/My Drive\"\n",
    "else:\n",
    "    dataset = \"Dataset\""
   ]
  },
  {
   "cell_type": "code",
   "execution_count": 42,
   "id": "24aadad0",
   "metadata": {},
   "outputs": [],
   "source": [
    "import pandas as pd\n",
    "import numpy as np\n",
    "import scipy"
   ]
  },
  {
   "cell_type": "code",
   "execution_count": null,
   "id": "b831d2e7",
   "metadata": {},
   "outputs": [
    {
     "data": {
      "text/html": [
       "<div>\n",
       "<style scoped>\n",
       "    .dataframe tbody tr th:only-of-type {\n",
       "        vertical-align: middle;\n",
       "    }\n",
       "\n",
       "    .dataframe tbody tr th {\n",
       "        vertical-align: top;\n",
       "    }\n",
       "\n",
       "    .dataframe thead th {\n",
       "        text-align: right;\n",
       "    }\n",
       "</style>\n",
       "<table border=\"1\" class=\"dataframe\">\n",
       "  <thead>\n",
       "    <tr style=\"text-align: right;\">\n",
       "      <th></th>\n",
       "      <th>id</th>\n",
       "      <th>formula</th>\n",
       "      <th>structure</th>\n",
       "      <th>energies</th>\n",
       "      <th>absorption_coefficient</th>\n",
       "      <th>imag_dielectric</th>\n",
       "      <th>real_dielectric</th>\n",
       "      <th>energy_max</th>\n",
       "      <th>bandgap</th>\n",
       "    </tr>\n",
       "  </thead>\n",
       "  <tbody>\n",
       "    <tr>\n",
       "      <th>0</th>\n",
       "      <td>mp-546266</td>\n",
       "      <td>DyBi2IO4</td>\n",
       "      <td>(Atom('Dy', [np.float64(0.0), np.float64(0.0),...</td>\n",
       "      <td>[0.0, 0.0277, 0.0554, 0.0831, 0.1109, 0.1386, ...</td>\n",
       "      <td>[0.0, 0.8362304735329499, 3.309178082718349, 7...</td>\n",
       "      <td>[0.0, 0.0015666666666666665, 0.0031, 0.0046666...</td>\n",
       "      <td>[6.9163, 6.916533333333334, 6.9172, 6.9182, 6....</td>\n",
       "      <td>55.4328</td>\n",
       "      <td>1.3818000000000001</td>\n",
       "    </tr>\n",
       "    <tr>\n",
       "      <th>1</th>\n",
       "      <td>mp-9583</td>\n",
       "      <td>K2ZnF4</td>\n",
       "      <td>(Atom('K', [np.float64(1.2531985199117757), np...</td>\n",
       "      <td>[0.0, 0.0399, 0.0798, 0.1197, 0.1596, 0.1995, ...</td>\n",
       "      <td>[0.0, 0.1362578822994739, 0.4541860898852432, ...</td>\n",
       "      <td>[0.0, 0.0001, 0.00016666666666666666, 0.0002, ...</td>\n",
       "      <td>[2.2021333333333333, 2.202166666666667, 2.2022...</td>\n",
       "      <td>79.7804</td>\n",
       "      <td>4.3866</td>\n",
       "    </tr>\n",
       "    <tr>\n",
       "      <th>2</th>\n",
       "      <td>mp-22988</td>\n",
       "      <td>CsGeCl3</td>\n",
       "      <td>(Atom('Cs', [np.float64(7.78333021211009), np....</td>\n",
       "      <td>[0.0, 0.029, 0.058, 0.087, 0.116, 0.1449, 0.17...</td>\n",
       "      <td>[0.0, 0.515935972729374, 2.0145311056971553, 4...</td>\n",
       "      <td>[0.0, 0.0007, 0.0013666666666666669, 0.0020333...</td>\n",
       "      <td>[3.975733333333333, 3.9758333333333336, 3.9761...</td>\n",
       "      <td>57.9759</td>\n",
       "      <td>2.178</td>\n",
       "    </tr>\n",
       "    <tr>\n",
       "      <th>3</th>\n",
       "      <td>mp-861502</td>\n",
       "      <td>AcFeO3</td>\n",
       "      <td>(Atom('Ac', [np.float64(0.0), np.float64(0.0),...</td>\n",
       "      <td>[0.0, 0.0587, 0.1174, 0.176, 0.2347, 0.2934, 0...</td>\n",
       "      <td>[0.0, 11295.053197761259, 44864.495977063896, ...</td>\n",
       "      <td>[0.0, 30.1914, 49.9196, 37.98413333333333, 21....</td>\n",
       "      <td>[67.54320000000001, 59.6215, 29.6067, 1.281, -...</td>\n",
       "      <td>117.3625</td>\n",
       "      <td>0.0</td>\n",
       "    </tr>\n",
       "    <tr>\n",
       "      <th>4</th>\n",
       "      <td>mp-1025029</td>\n",
       "      <td>PrHSe</td>\n",
       "      <td>(Atom('Pr', [np.float64(-2.0265362), np.float6...</td>\n",
       "      <td>[0.0, 0.0365, 0.073, 0.1095, 0.1459, 0.1824, 0...</td>\n",
       "      <td>[0.0, 1.6849892209331498, 6.697792903781345, 1...</td>\n",
       "      <td>[0.0, 0.0026999999999999997, 0.005366666666666...</td>\n",
       "      <td>[8.784633333333334, 8.7851, 8.786566666666667,...</td>\n",
       "      <td>72.9718</td>\n",
       "      <td>1.9455999999999998</td>\n",
       "    </tr>\n",
       "  </tbody>\n",
       "</table>\n",
       "</div>"
      ],
      "text/plain": [
       "           id   formula                                          structure  \\\n",
       "0   mp-546266  DyBi2IO4  (Atom('Dy', [np.float64(0.0), np.float64(0.0),...   \n",
       "1     mp-9583    K2ZnF4  (Atom('K', [np.float64(1.2531985199117757), np...   \n",
       "2    mp-22988   CsGeCl3  (Atom('Cs', [np.float64(7.78333021211009), np....   \n",
       "3   mp-861502    AcFeO3  (Atom('Ac', [np.float64(0.0), np.float64(0.0),...   \n",
       "4  mp-1025029     PrHSe  (Atom('Pr', [np.float64(-2.0265362), np.float6...   \n",
       "\n",
       "                                            energies  \\\n",
       "0  [0.0, 0.0277, 0.0554, 0.0831, 0.1109, 0.1386, ...   \n",
       "1  [0.0, 0.0399, 0.0798, 0.1197, 0.1596, 0.1995, ...   \n",
       "2  [0.0, 0.029, 0.058, 0.087, 0.116, 0.1449, 0.17...   \n",
       "3  [0.0, 0.0587, 0.1174, 0.176, 0.2347, 0.2934, 0...   \n",
       "4  [0.0, 0.0365, 0.073, 0.1095, 0.1459, 0.1824, 0...   \n",
       "\n",
       "                              absorption_coefficient  \\\n",
       "0  [0.0, 0.8362304735329499, 3.309178082718349, 7...   \n",
       "1  [0.0, 0.1362578822994739, 0.4541860898852432, ...   \n",
       "2  [0.0, 0.515935972729374, 2.0145311056971553, 4...   \n",
       "3  [0.0, 11295.053197761259, 44864.495977063896, ...   \n",
       "4  [0.0, 1.6849892209331498, 6.697792903781345, 1...   \n",
       "\n",
       "                                     imag_dielectric  \\\n",
       "0  [0.0, 0.0015666666666666665, 0.0031, 0.0046666...   \n",
       "1  [0.0, 0.0001, 0.00016666666666666666, 0.0002, ...   \n",
       "2  [0.0, 0.0007, 0.0013666666666666669, 0.0020333...   \n",
       "3  [0.0, 30.1914, 49.9196, 37.98413333333333, 21....   \n",
       "4  [0.0, 0.0026999999999999997, 0.005366666666666...   \n",
       "\n",
       "                                     real_dielectric energy_max  \\\n",
       "0  [6.9163, 6.916533333333334, 6.9172, 6.9182, 6....    55.4328   \n",
       "1  [2.2021333333333333, 2.202166666666667, 2.2022...    79.7804   \n",
       "2  [3.975733333333333, 3.9758333333333336, 3.9761...    57.9759   \n",
       "3  [67.54320000000001, 59.6215, 29.6067, 1.281, -...   117.3625   \n",
       "4  [8.784633333333334, 8.7851, 8.786566666666667,...    72.9718   \n",
       "\n",
       "              bandgap  \n",
       "0  1.3818000000000001  \n",
       "1              4.3866  \n",
       "2               2.178  \n",
       "3                 0.0  \n",
       "4  1.9455999999999998  "
      ]
     },
     "execution_count": 10,
     "metadata": {},
     "output_type": "execute_result"
    }
   ],
   "source": [
    "path_pkl = f\"{dataset}/absorption_mp_data.pkl\"\n",
    "pkl_df = pd.read_pickle(path_pkl)\n",
    "pkl_df.head()"
   ]
  },
  {
   "cell_type": "code",
   "execution_count": 4,
   "id": "a9d76829",
   "metadata": {},
   "outputs": [
    {
     "data": {
      "text/plain": [
       "array([Atom('Dy', [np.float64(0.0), np.float64(0.0), np.float64(0.0)], index=0),\n",
       "       Atom('Bi', [np.float64(1.972872), np.float64(1.972872), np.float64(2.4905380260529997)], index=1),\n",
       "       Atom('Bi', [np.float64(1.972872), np.float64(1.972872), np.float64(7.216928973947)], index=2),\n",
       "       Atom('I', [np.float64(0.0), np.float64(0.0), np.float64(4.8537335)], index=3),\n",
       "       Atom('O', [np.float64(1.972872), np.float64(0.0), np.float64(8.327443783812999)], index=4),\n",
       "       Atom('O', [np.float64(0.0), np.float64(1.972872), np.float64(8.327443783812999)], index=5),\n",
       "       Atom('O', [np.float64(1.972872), np.float64(0.0), np.float64(1.380023216187)], index=6),\n",
       "       Atom('O', [np.float64(0.0), np.float64(1.972872), np.float64(1.380023216187)], index=7)],\n",
       "      dtype=object)"
      ]
     },
     "execution_count": 4,
     "metadata": {},
     "output_type": "execute_result"
    }
   ],
   "source": [
    "sample_structure = np.array(pkl_df[\"structure\"][0])\n",
    "sample_structure"
   ]
  },
  {
   "cell_type": "markdown",
   "id": "b20c948b",
   "metadata": {},
   "source": [
    "## Krammer-Kronig's relation"
   ]
  },
  {
   "cell_type": "markdown",
   "id": "f1aded0e",
   "metadata": {},
   "source": [
    "$\\epsilon_1(\\omega)$ = real part of the dielectric function\n",
    "\n",
    "$\\epsilon_2(\\omega)$ = imaginary part of the dielectric funcion\n",
    "\n",
    "$\\alpha (\\omega)$ = absorption coefficient\n",
    "\n",
    "$n(\\omega)$ = real part of the refractive index\n",
    "\n",
    "$k(\\omega)$ = imaginary part of the refractive index\n",
    "\n",
    "$R(\\omega)$ = reflectance\n",
    "\n",
    "$\\omega$ = angular frequency = $\\frac{\\text{energy}}{\\hbar}$"
   ]
  },
  {
   "cell_type": "code",
   "execution_count": 53,
   "id": "b5252b54",
   "metadata": {},
   "outputs": [
    {
     "name": "stdout",
     "output_type": "stream",
     "text": [
      "6.62607015e-34\n",
      "1.602176634e-19\n",
      "3.141592653589793\n",
      "299792458.0\n"
     ]
    }
   ],
   "source": [
    "print(scipy.constants.Planck)\n",
    "print(scipy.constants.physical_constants[\"electron volt-joule relationship\"][0])\n",
    "print(scipy.constants.pi)\n",
    "print(scipy.constants.c)\n"
   ]
  },
  {
   "cell_type": "code",
   "execution_count": null,
   "id": "be6314e9",
   "metadata": {},
   "outputs": [],
   "source": [
    "import scipy\n",
    "\n",
    "\n",
    "class Krammer_Kronig:\n",
    "    def __init__(self, real_dielectric, imag_dielectric, photon_energy):\n",
    "        self.real_dielectric = real_dielectric\n",
    "        self.imag_dielectric = imag_dielectric\n",
    "        self.photon_energy = photon_energy * scipy.constants.physical_constants[\"electron volt-joule relationship\"][0]\n",
    "        self.reduced_plank = scipy.constants.Planck/(2*scipy.constants.pi)\n",
    "        self.ang_frequency = self.photon_energy/self.reduced_plank\n",
    "\n",
    "    \n",
    "    def get_absorption_coff(self):\n",
    "        left= (np.sqrt(2)*self.ang_frequency)/(scipy.constants.c)\n",
    "        first_square_root = np.sqrt(np.square(self.real_dielectric) + np.square(self.imag_dielectric))\n",
    "        right = np.sqrt(first_square_root - self.real_dielectric)\n",
    "        # right = np.sqrt(np.sqrt(np.square(self.real_dielectric) + np.square(self.imag_dielectric)) - self.real_dielectric)\n",
    "        self.absorption_coff = left * right\n",
    "        return self.absorption_coff\n",
    "\n",
    "    # Since we can get n, k, and R from the real and iaginary parts of the dielectric...    \n",
    "    def get_real_refractive_index(self):\n",
    "        self.real_refractive = np.sqrt(0.5*(np.sqrt(np.square(self.real_dielectric)+np.square(self.imag_dielectric))+self.real_dielectric))\n",
    "        return self.real_refractive\n",
    "\n",
    "    def get_imag_refractiv_index(self):\n",
    "        self.imag_refractive = np.sqrt(0.5*(np.sqrt(np.square(self.real_dielectric)+np.square(self.imag_dielectric))-self.real_dielectric))\n",
    "        return self.imag_refractive\n",
    "\n",
    "    def get_reflectance(self):\n",
    "        num = np.square(self.real_refractive - 1) + np.squar(self.imag_refractive)\n",
    "        den = np.square(self.real_refractive + 1) + np.squar(self.imag_refractive)\n",
    "        self.reflectance = num/den\n",
    "        return self.reflectance\n"
   ]
  },
  {
   "cell_type": "code",
   "execution_count": 55,
   "id": "7ce0cce7",
   "metadata": {},
   "outputs": [
    {
     "name": "stdout",
     "output_type": "stream",
     "text": [
      "6.9172\n",
      "0.0031\n",
      "0.0554\n",
      "Actual value: 3.309178082718349\n",
      "Result value: 330.917558161353\n"
     ]
    }
   ],
   "source": [
    "# Get absorption coefficient\n",
    "sample_real = pkl_df[\"real_dielectric\"][0][2]\n",
    "sample_imag = pkl_df[\"imag_dielectric\"][0][2]\n",
    "sample_energy = pkl_df[\"energies\"][0][2]\n",
    "\n",
    "print(sample_real)\n",
    "print(sample_imag)\n",
    "print(sample_energy)\n",
    "\n",
    "inst_1 = Krammer_Kronig(sample_real,sample_imag,sample_energy)\n",
    "result_coff = inst_1.get_absorption_coff()\n",
    "\n",
    "the_ref = pkl_df[\"absorption_coefficient\"][0][2]\n",
    "\n",
    "if result_coff == the_ref:\n",
    "    print(\"calculations work perfectly\")\n",
    "else:\n",
    "    print(f\"Actual value: {the_ref}\\nResult value: {result_coff}\")\n",
    "\n"
   ]
  },
  {
   "cell_type": "markdown",
   "id": "f91d86c0",
   "metadata": {},
   "source": [
    "Why is the $\\text{result value} = \\text{actual value} *100$?"
   ]
  }
 ],
 "metadata": {
  "kernelspec": {
   "display_name": "CODED",
   "language": "python",
   "name": "python3"
  },
  "language_info": {
   "codemirror_mode": {
    "name": "ipython",
    "version": 3
   },
   "file_extension": ".py",
   "mimetype": "text/x-python",
   "name": "python",
   "nbconvert_exporter": "python",
   "pygments_lexer": "ipython3",
   "version": "3.13.2"
  }
 },
 "nbformat": 4,
 "nbformat_minor": 5
}
