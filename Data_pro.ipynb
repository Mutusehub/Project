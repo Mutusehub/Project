{
 "cells": [
  {
   "cell_type": "code",
   "execution_count": null,
   "id": "f61f5e62",
   "metadata": {},
   "outputs": [],
   "source": [
    "import sys\n",
    "if \"google.colab\" in sys.modules:\n",
    "    from google.colab import drive\n",
    "    drive.mount('/content/drive')\n",
    "\n",
    "    !pip install ase torch_geometric\n",
    "    import torch\n",
    "    from torch_geometric.data import Data, DataLoader\n",
    "\n",
    "    dataset = \"/content/drive/My Drive/Dataset\"\n",
    "else:\n",
    "    dataset = \"Dataset\""
   ]
  },
  {
   "cell_type": "code",
   "execution_count": null,
   "id": "52b8fcf3",
   "metadata": {},
   "outputs": [],
   "source": [
    "import pandas as pd\n",
    "import numpy as np"
   ]
  },
  {
   "cell_type": "code",
   "execution_count": null,
   "id": "38c6706f",
   "metadata": {},
   "outputs": [],
   "source": [
    "data_df = pd.read_pickle(f\"{dataset}/absorption_mp_data.pkl\")\n",
    "data_df"
   ]
  },
  {
   "cell_type": "markdown",
   "id": "fb44846b",
   "metadata": {},
   "source": [
    "## Reading the dataset per a structure"
   ]
  },
  {
   "cell_type": "code",
   "execution_count": null,
   "id": "6942f5dc",
   "metadata": {},
   "outputs": [],
   "source": [
    "# The structure column is already an atom\n",
    "a_structure = data_df[\"structure\"][1]\n",
    "print(a_structure)"
   ]
  },
  {
   "cell_type": "markdown",
   "id": "538916e9",
   "metadata": {},
   "source": [
    "## Adding unit_cell_volume row in the whole dataset{Column}"
   ]
  },
  {
   "cell_type": "code",
   "execution_count": null,
   "id": "b7c53ae2",
   "metadata": {},
   "outputs": [],
   "source": [
    "def get_mean(row):\n",
    "    row[\"unit_cell_volume\"] = row[\"structure\"].get_volume()\n",
    "    return row\n",
    "\n",
    "data_df = data_df.apply(lambda row: get_mean(row), axis=1)"
   ]
  },
  {
   "cell_type": "markdown",
   "id": "0f5a9738",
   "metadata": {},
   "source": [
    "## What the whole structure gives us"
   ]
  },
  {
   "cell_type": "code",
   "execution_count": null,
   "id": "c164a457",
   "metadata": {},
   "outputs": [],
   "source": [
    "print(a_structure.get_all_distances())\n",
    "#print(a_structure.get_cell())\n",
    "print(a_structure.get_chemical_formula())\n",
    "#print(a_structure.get_atomic_numbers())\n",
    "print(a_structure.get_chemical_symbols())\n",
    "#print(a_structure.get_distance(a0=0, a1=1))\n",
    "#print(a_structure. get_distances(0,2))\n",
    "#print(a_structure.get_global_number_of_atoms())\n",
    "#print(a_structure.get_initial_charges())\n",
    "#print(a_structure.get_kinetic_energy())\n",
    "#print(a_structure.get_pbc())\n",
    "print(a_structure.get_positions())\n",
    "print(a_structure.get_volume())\n",
    "#print(a_structure.get_masses()) # Get atomic mass of each atom in the structure\n",
    "#print(a_structure.get_momenta()) # Get the momenta of each atom in the structure\n",
    "#print(a_structure.get_moments_of_inertia()) # Get the moments of inertia in the structure\n",
    "#print(a_structure.get_angular_momentum())\n",
    "#print(a_structure.get_initial_magnetic_moments())\n",
    "#print(a_structure.get_atomic_numbers())\n",
    "#print(a_structure.get_tags())\n",
    "#print(a_structure.get_angle(0,1,2))"
   ]
  },
  {
   "cell_type": "markdown",
   "id": "10fc3891",
   "metadata": {},
   "source": [
    "## Atoms"
   ]
  },
  {
   "cell_type": "code",
   "execution_count": null,
   "id": "ca76b167",
   "metadata": {},
   "outputs": [],
   "source": [
    "import ase\n",
    "from ase.data import atomic_masses, covalent_radii\n",
    "all_nodes = []\n",
    "for i in a_structure:\n",
    "    A = i.number\n",
    "    mass = atomic_masses[A]\n",
    "    radius = covalent_radii[A]\n",
    "    the_nodes = [A, mass, radius]\n",
    "    all_nodes.append(the_nodes)\n",
    "\n",
    "print(all_nodes)"
   ]
  },
  {
   "cell_type": "markdown",
   "id": "b968c498",
   "metadata": {},
   "source": [
    "## Interatomic connection"
   ]
  },
  {
   "cell_type": "code",
   "execution_count": null,
   "id": "f02f6682",
   "metadata": {},
   "outputs": [],
   "source": [
    "num_atoms = a_structure.get_global_number_of_atoms()\n",
    "edges = []\n",
    "from_node = []\n",
    "to_node = []\n",
    "for i in range(num_atoms):\n",
    "    for j in range(num_atoms):\n",
    "        if i==j:\n",
    "            pass\n",
    "        else:\n",
    "            from_node.append(i)\n",
    "            to_node.append(j)\n",
    "\n",
    "edges = [from_node, to_node]\n",
    "print(edges)"
   ]
  },
  {
   "cell_type": "markdown",
   "id": "8bcd5afa",
   "metadata": {},
   "source": [
    "## Global Attribute"
   ]
  },
  {
   "cell_type": "code",
   "execution_count": null,
   "id": "6d926260",
   "metadata": {},
   "outputs": [],
   "source": [
    "an_index = 0\n",
    "global_attr = [data_df[\"unit_cell_volume\"][an_index]]\n",
    "print(global_attr)"
   ]
  },
  {
   "cell_type": "markdown",
   "id": "ffa4d5de",
   "metadata": {},
   "source": [
    "## Target Attribute"
   ]
  },
  {
   "cell_type": "code",
   "execution_count": null,
   "id": "77767861",
   "metadata": {},
   "outputs": [],
   "source": [
    "targg = [data_df[\"absorption_coefficient\"]]\n",
    "print(targg)"
   ]
  },
  {
   "cell_type": "markdown",
   "id": "556846a2",
   "metadata": {},
   "source": [
    "## Now as a function that will iterate through the whole dataset"
   ]
  },
  {
   "cell_type": "code",
   "execution_count": null,
   "id": "4bba121e",
   "metadata": {},
   "outputs": [],
   "source": [
    "from ase.data import atomic_masses, covalent_radii\n",
    "def get_graphical(row):\n",
    "    # Get nodes of structure\n",
    "    all_nodes = []\n",
    "    for i in row[\"structure\"]:\n",
    "        Z = i.number\n",
    "        # Atomic mass (from ASE database)\n",
    "        mass = atomic_masses[Z]\n",
    "        \n",
    "        # Covalent radius (from ASE database)\n",
    "        radius = covalent_radii[Z]\n",
    "        \n",
    "        the_nodes = [Z, mass, radius]\n",
    "        all_nodes.append(the_nodes)\n",
    "\n",
    "    # Get edges        \n",
    "    num_atoms = row[\"structure\"].get_global_number_of_atoms()\n",
    "\n",
    "    edges = []\n",
    "\n",
    "    from_node = []\n",
    "    to_node = []\n",
    "\n",
    "    for i in range(num_atoms):\n",
    "        for j in range(num_atoms):\n",
    "            if i==j:\n",
    "                pass\n",
    "            else:\n",
    "                from_node.append(i)\n",
    "                to_node.append(j)\n",
    "\n",
    "    edges=[from_node, to_node]\n",
    "\n",
    "    # Get global attributes\n",
    "    global_attr = [row[\"unit_cell_volume\"]]\n",
    "\n",
    "    # Get target attribute\n",
    "    targg = [row[\"absorption_coefficient\"]]\n",
    "    sample = [all_nodes, edges, global_attr, targg]\n",
    "    return sample\n",
    "\n",
    "\n",
    "data_df = data_df.apply(lambda row: get_graphical(row), axis=1)\n",
    "print(data_df[0])"
   ]
  },
  {
   "cell_type": "markdown",
   "id": "3a5a3224",
   "metadata": {},
   "source": [
    "Creating Graph representation using of PyG"
   ]
  },
  {
   "cell_type": "code",
   "execution_count": null,
   "id": "f7a35692",
   "metadata": {},
   "outputs": [],
   "source": [
    "import torch\n",
    "from torch_geometric.data import Data, InMemoryDataset\n",
    "from torch_geometric.loader import DataLoader\n",
    "from ase.data import atomic_masses, covalent_radii\n",
    "import pandas as pd\n",
    "from sklearn.model_selection import train_test_split\n",
    "\n",
    "#Load dataset\n",
    "data_df = pd.read_pickle(f\"{dataset}/absorption_mp_data.pkl\")  # adjust path as needed\n",
    "\n",
    "# Add global attribute: unit cell volume\n",
    "def add_volume(row):\n",
    "    row[\"unit_cell_volume\"] = row[\"structure\"].get_volume()\n",
    "    return row\n",
    "\n",
    "data_df = data_df.apply(add_volume, axis=1)\n",
    "\n",
    "#Convert each row to PyG graph\n",
    "def row_to_graph(row):\n",
    "    structure = row[\"structure\"]\n",
    "    num_atoms = structure.get_global_number_of_atoms()\n",
    "\n",
    "    # Node features: [atomic number, mass, covalent radius]\n",
    "    nodes = []\n",
    "    for atom in structure:\n",
    "        Z = atom.number\n",
    "        nodes.append([Z, atomic_masses[Z], covalent_radii[Z]])\n",
    "\n",
    "    x = torch.tensor(nodes, dtype=torch.float)\n",
    "\n",
    "    # Edge indices: fully connected (excluding self-loops)\n",
    "    from_node, to_node = [], []\n",
    "    for i in range(num_atoms):\n",
    "        for j in range(num_atoms):\n",
    "            if i != j:\n",
    "                from_node.append(i)\n",
    "                to_node.append(j)\n",
    "    edge_index = torch.tensor([from_node, to_node], dtype=torch.long)\n",
    "\n",
    "    # Global attribute and target\n",
    "    global_attr = torch.tensor([row[\"unit_cell_volume\"]], dtype=torch.float)\n",
    "    target = torch.tensor([row[\"absorption_coefficient\"]], dtype=torch.float)\n",
    "\n",
    "    # Create graph object\n",
    "    data = Data(\n",
    "        x=x,\n",
    "        edge_index=edge_index,\n",
    "        edge_attr=None,\n",
    "        y=target,\n",
    "        u=global_attr,\n",
    "    )\n",
    "\n",
    "    # Add extra metadata\n",
    "    data.id = row[\"id\"]\n",
    "    data.formula = row[\"formula\"]\n",
    "    data.structure = row[\"structure\"]\n",
    "    data.energies = row[\"energies\"]\n",
    "\n",
    "    return data\n",
    "\n",
    "# Convert entire DataFrame to graph list\n",
    "graph_list = data_df.apply(row_to_graph, axis=1).tolist()\n",
    "print(graph_list)"
   ]
  }
 ],
 "metadata": {
  "kernelspec": {
   "display_name": "MUTUSE",
   "language": "python",
   "name": "python3"
  },
  "language_info": {
   "codemirror_mode": {
    "name": "ipython",
    "version": 3
   },
   "file_extension": ".py",
   "mimetype": "text/x-python",
   "name": "python",
   "nbconvert_exporter": "python",
   "pygments_lexer": "ipython3",
   "version": "3.13.3"
  }
 },
 "nbformat": 4,
 "nbformat_minor": 5
}
