{
 "cells": [
  {
   "cell_type": "code",
   "execution_count": null,
   "id": "97e5e46e",
   "metadata": {},
   "outputs": [],
   "source": [
    "# libraries\n",
    "import torch\n",
    "import torch.nn as nn\n",
    "import torch.nn.functional as F\n",
    "import torch_geometric as tg\n",
    "import torch_scatter\n",
    "import e3nn\n",
    "from e3nn import o3\n",
    "from typing import Dict, Union"
   ]
  },
  {
   "cell_type": "code",
   "execution_count": null,
   "id": "402be84e",
   "metadata": {},
   "outputs": [],
   "source": [
    "## Model\n",
    "class MixingLinear(nn.Module):\n",
    "    def __init__(self, in_feature, out_feature):\n",
    "        super(MixingLinear, self).__init__()\n",
    "        self.in_feature = in_feature\n",
    "        self.out_feature = out_feature\n",
    "        self.weight = nn.Parameter(torch.Tensor(self.out_feature, self.in_feature))\n",
    "        self.reset_parameters()\n",
    "\n",
    "    def reset_parameters(self):\n",
    "        nn.init.kaiming_uniform_(self.weight, a=5**0.5)\n",
    "\n",
    "    def forward(self, x):\n",
    "        weight = torch.abs(self.weight)/(torch.sum(torch.abs(self.weight), dim=1, keepdim=True)+1e-10)\n",
    "        return F.linear(x, weight)\n",
    "    \n",
    "class PeriodicNetwork(Network):\n",
    "    def __init__(self, in_dim, em_dim, **kwargs): # Defines the constructor for the PeriodicNetwork class.\n",
    "        # override the `reduce_output` keyword to instead perform an averge over atom contributions\n",
    "        self.pool = False\n",
    "        if kwargs['reduce_output'] == True:\n",
    "            kwargs['reduce_output'] = False\n",
    "            self.pool = True\n",
    "\n",
    "        super().__init__(**kwargs)\n",
    "\n",
    "        # embed the one-hot encoding\n",
    "        self.em_type = nn.Linear(in_dim, em_dim)    #Linear layer for atom type\n",
    "        self.em_mass = nn.Linear(in_dim, em_dim)    #Linear layer for atom mass\n",
    "        self.em_dipole = nn.Linear(in_dim, em_dim)  #Linear layer for atom dipole polarizability\n",
    "        self.em_radius = nn.Linear(in_dim, em_dim)  #Linear layer for atom covalent radius\n",
    "        self.em_mixing = MixingLinear(3, 1)         #Linear layer for mixing the atom features (mass, dipole, radius)\n",
    "\n",
    "    def forward(self, data: Union[tg.data.Data, Dict[str, torch.Tensor]]) -> torch.Tensor:\n",
    "        data.z = F.relu(self.em_type(data.z))\n",
    "        data.x_mass = F.relu(self.em_mass(data.x_mass))\n",
    "        data.x_dipole = F.relu(self.em_dipole(data.x_dipole))\n",
    "        data.x_radius = F.relu(self.em_radius(data.x_radius))\n",
    "        tmp = torch.stack([data.x_mass, data.x_dipole, data.x_radius], dim=0)      # stack the atom features in shape (3, N, em_dim)\n",
    "        tmp2 = torch.permute(tmp, (1, 2, 0))                                       # permute the tensor to (N, em_dim, 3)\n",
    "        data.x = torch.permute(self.em_mixing(tmp2),(2, 0, 1)).reshape(-1, em_dim) # reshape the tensor to (N, em_dim)\n",
    "        output = super().forward(data)\n",
    "        # ReLu for last convolution will force output positive value, if output have negative value, it step should be neglected\n",
    "        output = torch.relu(output)\n",
    "\n",
    "        # if pool_nodes was set to True, use scatter_mean to aggregate\n",
    "        if self.pool == True:\n",
    "            output = torch_scatter.scatter_mean(output, data.batch, dim=0)  # take mean over atoms per example\n",
    "\n",
    "        # normalization output from 0 to 1\n",
    "        #maxima, _ = torch.max(output, dim=1)\n",
    "        #output = output.div(maxima.unsqueeze(1))\n",
    "\n",
    "        return output"
   ]
  }
 ],
 "metadata": {
  "kernelspec": {
   "display_name": "MUTUSE",
   "language": "python",
   "name": "python3"
  },
  "language_info": {
   "codemirror_mode": {
    "name": "ipython",
    "version": 3
   },
   "file_extension": ".py",
   "mimetype": "text/x-python",
   "name": "python",
   "nbconvert_exporter": "python",
   "pygments_lexer": "ipython3",
   "version": "3.13.3"
  }
 },
 "nbformat": 4,
 "nbformat_minor": 5
}
