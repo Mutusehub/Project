{
 "cells": [
  {
   "cell_type": "code",
   "execution_count": 1,
   "id": "bf966757",
   "metadata": {
    "colab": {
     "base_uri": "https://localhost:8080/"
    },
    "collapsed": true,
    "executionInfo": {
     "elapsed": 7409,
     "status": "ok",
     "timestamp": 1749311047683,
     "user": {
      "displayName": "SPTI/01041/2021 MUTUA ADAM K",
      "userId": "15783670122064384507"
     },
     "user_tz": -180
    },
    "id": "bf966757",
    "outputId": "8d143b20-9e7e-498f-eaee-4e7693b97373"
   },
   "outputs": [],
   "source": [
    "import sys\n",
    "\n",
    "if \"google.colab\" in sys.modules:\n",
    "    # Google Colab\n",
    "    from google.colab import drive\n",
    "    drive.mount('/content/drive')\n",
    "    Dataset = \"/content/drive/My Drive/Fred\"\n",
    "\n",
    "    !pip install torch_geometric ase mp-api\n",
    "    import torch\n",
    "    from torch_geometric.data import Data, DataLoader\n",
    "\n",
    "\n",
    "else:\n",
    "    Dataset = \"Dataset\""
   ]
  },
  {
   "cell_type": "code",
   "execution_count": null,
   "id": "IcDY3BExf8SJ",
   "metadata": {
    "executionInfo": {
     "elapsed": 6,
     "status": "ok",
     "timestamp": 1749311047693,
     "user": {
      "displayName": "SPTI/01041/2021 MUTUA ADAM K",
      "userId": "15783670122064384507"
     },
     "user_tz": -180
    },
    "id": "IcDY3BExf8SJ"
   },
   "outputs": [],
   "source": [
    "# Import necessary libraries\n",
    "import pandas as pd\n",
    "import numpy as np\n",
    "import matplotlib.pyplot as plt\n",
    "\n",
    "from pymatgen.core import Element\n",
    "from pymatgen.analysis.local_env import MinimumDistanceNN, VoronoiNN\n",
    "mdnn = MinimumDistanceNN()\n",
    "voronoi_nn = VoronoiNN()\n",
    "from pymatgen.analysis.molecule_structure_comparator import CovalentRadius\n",
    "\n",
    "from mp_api.client import MPRester\n",
    "API_KEY = \"z5IlnPVPKLm4IsLW9fLtaLcI53PsXejO\"\n",
    "\n",
    "from sklearn.preprocessing import StandardScaler\n",
    "scaler = StandardScaler()"
   ]
  },
  {
   "cell_type": "code",
   "execution_count": null,
   "id": "1uXDJRZqhLbu",
   "metadata": {
    "colab": {
     "base_uri": "https://localhost:8080/",
     "height": 744,
     "referenced_widgets": [
      "ad1fb53b90e745b483c6e30bffd84df9",
      "068fc6ccde9f4d94885fee4885e619e2",
      "4404d17c96f2450faaf8451817fe5c74",
      "e390eab36ab94fb9984055615a57da43",
      "ab9f8c50c28b4da1b1496789b58c886c",
      "1f6f1cf76a674f61a9472ede1aec0138",
      "54c5cc14eb8c49efad6121623509e126",
      "cc1bc14ef81c4d729141c9de2cf8b09c",
      "2801f1f742be4eb1b491ad36d8696f5e",
      "74d826567c9a401985d25945e5d72f01",
      "1e5168030f574d8e84ddb9aa44f755eb"
     ]
    },
    "executionInfo": {
     "elapsed": 6612,
     "status": "ok",
     "timestamp": 1749311054308,
     "user": {
      "displayName": "SPTI/01041/2021 MUTUA ADAM K",
      "userId": "15783670122064384507"
     },
     "user_tz": -180
    },
    "id": "1uXDJRZqhLbu",
    "outputId": "196a89bc-3c0f-4194-d6a4-d4ee32ee57c3"
   },
   "outputs": [],
   "source": [
    "# Read the data\n",
    "data_df = pd.read_pickle(f\"{Dataset}/absorption_mp_data.pkl\")\n",
    "\n",
    "# Get material ids\n",
    "df_ids = []\n",
    "for i in range(len(data_df)):\n",
    "  df_ids.append(data_df[\"id\"][i])\n",
    "\n",
    "# Get pymatgen structure\n",
    "with MPRester(API_KEY) as mpr:\n",
    "  df_struct = mpr.materials.summary.search(\n",
    "      material_ids = df_ids,\n",
    "      fields = [\"material_id\",\"structure\"])\n",
    "\n",
    "# Add pymaten structure to dataframe\n",
    "structure_dict = {item.material_id: item.structure for item in df_struct}\n",
    "data_df[\"pymatgen_structure\"] = data_df[\"id\"].apply(lambda x: structure_dict.get(x, None))\n",
    "data_df.head()"
   ]
  },
  {
   "cell_type": "markdown",
   "id": "5nxh950MALMd",
   "metadata": {
    "id": "5nxh950MALMd"
   },
   "source": [
    "## Preprocessing data"
   ]
  },
  {
   "cell_type": "code",
   "execution_count": null,
   "id": "eynanCyHgoXb",
   "metadata": {
    "colab": {
     "base_uri": "https://localhost:8080/"
    },
    "executionInfo": {
     "elapsed": 57,
     "status": "ok",
     "timestamp": 1749311054386,
     "user": {
      "displayName": "SPTI/01041/2021 MUTUA ADAM K",
      "userId": "15783670122064384507"
     },
     "user_tz": -180
    },
    "id": "eynanCyHgoXb",
    "outputId": "48cd5844-d4c5-4c11-9107-c4828d4119e2"
   },
   "outputs": [],
   "source": [
    "new_structure = data_df[\"pymatgen_structure\"][12]\n",
    "print(new_structure)"
   ]
  },
  {
   "cell_type": "code",
   "execution_count": null,
   "id": "3g1YVsx-qz-c",
   "metadata": {
    "colab": {
     "base_uri": "https://localhost:8080/"
    },
    "executionInfo": {
     "elapsed": 43,
     "status": "ok",
     "timestamp": 1749311054432,
     "user": {
      "displayName": "SPTI/01041/2021 MUTUA ADAM K",
      "userId": "15783670122064384507"
     },
     "user_tz": -180
    },
    "id": "3g1YVsx-qz-c",
    "outputId": "a3c5944b-2b15-4466-a9ee-4725ed632d39"
   },
   "outputs": [],
   "source": [
    "a_structure = data_df[\"structure\"][0]\n",
    "print(a_structure)"
   ]
  },
  {
   "cell_type": "code",
   "execution_count": null,
   "id": "GOgozAymi1c8",
   "metadata": {
    "executionInfo": {
     "elapsed": 14,
     "status": "ok",
     "timestamp": 1749311054480,
     "user": {
      "displayName": "SPTI/01041/2021 MUTUA ADAM K",
      "userId": "15783670122064384507"
     },
     "user_tz": -180
    },
    "id": "GOgozAymi1c8"
   },
   "outputs": [],
   "source": [
    "dip_rad = {'H': [32.0, 4.50711], 'He': [46.0, 1.38375], 'Li': [133.0, 164.1125],\n",
    "           'Be': [102.0, 37.74], 'B': [85.0, 20.5], 'C': [75.0, 11.3],\n",
    "           'N': [71.0, 7.4], 'O': [63.0, 5.3], 'F': [64.0, 3.74],\n",
    "           'Ne': [67.0, 2.6611], 'Na': [155.0, 162.7], 'Mg': [139.0, 71.2],\n",
    "           'Al': [126.0, 57.8], 'Si': [115.99999999999999, 37.3],\n",
    "           'P': [111.00000000000001, 25.0], 'S': [103.0, 19.4], 'Cl': [99.0, 14.6],\n",
    "           'Ar': [96.0, 11.083], 'K': [196.0, 289.7], 'Ca': [171.0, 160.8],\n",
    "           'Sc': [148.0, 97.0], 'Ti': [136.0, 100.0], 'V': [134.0, 87.0],\n",
    "           'Cr': [122.0, 83.0], 'Mn': [119.0, 68.0], 'Fe': [115.99999999999999, 62.0],\n",
    "           'Co': [111.00000000000001, 55.0], 'Ni': [110.00000000000001, 49.0],\n",
    "           'Cu': [112.00000000000001, 46.5], 'Zn': [118.0, 38.67], 'Ga': [124.0, 50.0],\n",
    "           'Ge': [121.0, 40.0], 'As': [121.0, 30.0], 'Se': [115.99999999999999, 28.9],\n",
    "           'Br': [113.99999999999999, 21.0], 'Kr': [117.0, 16.78], 'Rb': [210.0, 319.8],\n",
    "           'Sr': [185.0, 197.2], 'Y': [163.0, 162.0], 'Zr': [154.0, 112.0],\n",
    "           'Nb': [147.0, 98.0], 'Mo': [138.0, 87.0], 'Tc': [128.0, 79.0],\n",
    "           'Ru': [125.0, 72.0], 'Rh': [125.0, 66.0], 'Pd': [120.0, 26.14],\n",
    "           'Ag': [128.0, 55.0], 'Cd': [136.0, 46.0], 'In': [142.0, 65.0],\n",
    "           'Sn': [140.0, 53.0], 'Sb': [140.0, 43.0], 'Te': [136.0, 38.0],\n",
    "           'I': [133.0, 32.9], 'Xe': [131.0, 27.32], 'Cs': [231.99999999999997, 400.9],\n",
    "           'Ba': [196.0, 272.0], 'La': [180.0, 215.0], 'Ce': [163.0, 205.0],\n",
    "           'Pr': [176.0, 216.0], 'Nd': [174.0, 208.0], 'Pm': [173.0, 200.0],\n",
    "           'Sm': [172.0, 192.0], 'Eu': [168.0, 184.0], 'Gd': [169.0, 158.0],\n",
    "           'Tb': [168.0, 170.0], 'Dy': [167.0, 163.0], 'Ho': [166.0, 156.0],\n",
    "           'Er': [165.0, 150.0], 'Tm': [164.0, 144.0], 'Yb': [170.0, 139.0],\n",
    "           'Lu': [162.0, 137.0], 'Hf': [152.0, 103.0], 'Ta': [146.0, 74.0],\n",
    "           'W': [137.0, 68.0], 'Re': [131.0, 62.0], 'Os': [129.0, 57.0],\n",
    "           'Ir': [122.0, 54.0], 'Pt': [123.0, 48.0], 'Au': [124.0, 36.0],\n",
    "           'Hg': [133.0, 33.91], 'Tl': [144.0, 50.0], 'Pb': [144.0, 47.0],\n",
    "           'Bi': [151.0, 48.0], 'Po': [145.0, 44.0], 'At': [147.0, 42.0],\n",
    "           'Rn': [142.0, 35.0], 'Fr': [223.0, 317.8], 'Ra': [200.99999999999997, 246.0],\n",
    "           'Ac': [186.0, 203.0], 'Th': [175.0, 217.0], 'Pa': [169.0, 154.0],\n",
    "           'U': [170.0, 129.0], 'Np': [171.0, 151.0], 'Pu': [172.0, 132.0],\n",
    "           'Am': [166.0, 131.0], 'Cm': [166.0, 144.0], 'Bk': [168.0, 125.0],\n",
    "           'Cf': [168.0, 122.0], 'Es': [165.0, 118.0], 'Fm': [167.0, 113.0],\n",
    "           'Md': [173.0, 109.0], 'No': [176.0, 110.0], 'Lr': [161.0, 320.0],\n",
    "           'Rf': [157.0, 112.0], 'Db': [149.0, 42.0], 'Sg': [143.0, 40.0],\n",
    "           'Bh': [141.0, 38.0], 'Hs': [134.0, 36.0], 'Mt': [129.0, 34.0],\n",
    "           'Ds': [128.0, 32.0], 'Rg': [121.0, 32.0], 'Cn': [122.0, 28.0],\n",
    "           'Nh': [136.0, 29.0], 'Fl': [143.0, 31.0], 'Mc': [162.0, 71.0],\n",
    "           'Lv': [175.0, 0.0], 'Ts': [165.0, 76.0], 'Og': [157.0, 58.0]}"
   ]
  },
  {
   "cell_type": "markdown",
   "id": "VzmJbnt9OoBG",
   "metadata": {
    "id": "VzmJbnt9OoBG"
   },
   "source": [
    "### Nodes"
   ]
  },
  {
   "cell_type": "code",
   "execution_count": null,
   "id": "YmtzjB7IOsXX",
   "metadata": {
    "colab": {
     "base_uri": "https://localhost:8080/"
    },
    "executionInfo": {
     "elapsed": 12,
     "status": "ok",
     "timestamp": 1749311054491,
     "user": {
      "displayName": "SPTI/01041/2021 MUTUA ADAM K",
      "userId": "15783670122064384507"
     },
     "user_tz": -180
    },
    "id": "YmtzjB7IOsXX",
    "outputId": "3d66b83b-ad1b-4134-9ee1-cf2c4751ca26"
   },
   "outputs": [],
   "source": [
    "# From pymatgen structure\n",
    "\n",
    "the_nodes = []\n",
    "atomic_numbers = new_structure.atomic_numbers\n",
    "carts  = new_structure.cart_coords\n",
    "fracs = new_structure.frac_coords\n",
    "for i in range(new_structure.num_sites):\n",
    "    # Nodes\n",
    "    symb = new_structure[i].specie.symbol\n",
    "    a_node = [atomic_numbers[i], Element(symb).atomic_mass.real,\n",
    "           CovalentRadius.radius[symb], dip_rad[symb][0], dip_rad[symb][1],\n",
    "           Element(symb).atomic_radius.real, Element(symb).van_der_waals_radius.real,\n",
    "           Element(symb).molar_volume.real,\n",
    "           carts[i][0], carts[i][1], carts[i][2],]\n",
    "    the_nodes.append(a_node)\n",
    "print(the_nodes)"
   ]
  },
  {
   "cell_type": "code",
   "execution_count": null,
   "id": "LbvPuMoVrWyy",
   "metadata": {
    "colab": {
     "base_uri": "https://localhost:8080/"
    },
    "executionInfo": {
     "elapsed": 9,
     "status": "ok",
     "timestamp": 1749311054503,
     "user": {
      "displayName": "SPTI/01041/2021 MUTUA ADAM K",
      "userId": "15783670122064384507"
     },
     "user_tz": -180
    },
    "id": "LbvPuMoVrWyy",
    "outputId": "fa11c685-178e-4a0e-d863-c3605573deb8"
   },
   "outputs": [],
   "source": [
    "# From ase structure\n",
    "num_atoms = a_structure.get_global_number_of_atoms()\n",
    "atomic_numbers = a_structure.get_atomic_numbers()\n",
    "positions = a_structure.get_positions()\n",
    "atomic_masses = a_structure.get_masses()\n",
    "\n",
    "\n",
    "for i in range(num_atoms):\n",
    "    print([atomic_numbers[i], atomic_masses[i], positions[i][0], positions[i][1], positions[i][2]])"
   ]
  },
  {
   "cell_type": "markdown",
   "id": "nTyGcFlmM83P",
   "metadata": {
    "id": "nTyGcFlmM83P"
   },
   "source": [
    "### Edges and edge attributes from pymatgen structure"
   ]
  },
  {
   "cell_type": "code",
   "execution_count": null,
   "id": "AFAzKDUkCGL1",
   "metadata": {
    "colab": {
     "base_uri": "https://localhost:8080/"
    },
    "executionInfo": {
     "elapsed": 9,
     "status": "ok",
     "timestamp": 1749311054515,
     "user": {
      "displayName": "SPTI/01041/2021 MUTUA ADAM K",
      "userId": "15783670122064384507"
     },
     "user_tz": -180
    },
    "id": "AFAzKDUkCGL1",
    "outputId": "b19dc2be-2c84-407a-8976-f89b5b497100"
   },
   "outputs": [],
   "source": [
    "# Get all nearest neighbour info\n",
    "all_info = mdnn.get_all_nn_info(new_structure)\n",
    "nums = len(all_info)\n",
    "\n",
    "the_lattice = new_structure.lattice.matrix\n",
    "pos = new_structure.cart_coords\n",
    "\n",
    "# Convert structure to list of sites\n",
    "sites_list = new_structure.sites\n",
    "\n",
    "# Edges\n",
    "from_atoms = []\n",
    "to_atoms = []\n",
    "\n",
    "# Edge attributes\n",
    "attr = []\n",
    "\n",
    "\n",
    "for site in range(nums):\n",
    "    for neighbor in range(len(all_info[site])):\n",
    "        # Edges\n",
    "        from_atoms.append(site)\n",
    "        to_index = all_info[site][neighbor][\"site_index\"]\n",
    "        to_atoms.append(to_index)\n",
    "\n",
    "        # shift vector\n",
    "        shift = np.dot(all_info[site][neighbor][\"image\"], the_lattice)\n",
    "        direct_vec = pos[to_index] - pos[site]\n",
    "        shift_vector = direct_vec + shift\n",
    "\n",
    "        # Edge attributes\n",
    "        attr.append([all_info[site][neighbor][\"weight\"],\n",
    "                    sites_list[site].distance(all_info[site][neighbor][\"site\"]),\n",
    "                    shift[0], shift[1], shift[2],\n",
    "                    shift_vector[0], shift_vector[1], shift_vector[2]\n",
    "                    ])\n",
    "\n",
    "\n",
    "print(from_atoms)\n",
    "print(to_atoms)\n",
    "print(attr)"
   ]
  },
  {
   "cell_type": "code",
   "execution_count": null,
   "id": "Jzo38E-VXJOk",
   "metadata": {
    "colab": {
     "base_uri": "https://localhost:8080/"
    },
    "executionInfo": {
     "elapsed": 11,
     "status": "ok",
     "timestamp": 1749311054528,
     "user": {
      "displayName": "SPTI/01041/2021 MUTUA ADAM K",
      "userId": "15783670122064384507"
     },
     "user_tz": -180
    },
    "id": "Jzo38E-VXJOk",
    "outputId": "6870987a-8913-48cc-b488-66e907ecc649"
   },
   "outputs": [],
   "source": [
    "total_sites = new_structure.num_sites\n",
    "for i in range(total_sites):\n",
    "    # Get every image of a neighbouring site\n",
    "    the_image = mdnn.get_nn_images(new_structure, i)\n",
    "    print(the_image)"
   ]
  },
  {
   "cell_type": "code",
   "execution_count": null,
   "id": "E4OOpVwUsNje",
   "metadata": {
    "executionInfo": {
     "elapsed": 2,
     "status": "ok",
     "timestamp": 1749311054533,
     "user": {
      "displayName": "SPTI/01041/2021 MUTUA ADAM K",
      "userId": "15783670122064384507"
     },
     "user_tz": -180
    },
    "id": "E4OOpVwUsNje"
   },
   "outputs": [],
   "source": [
    "# From ase structure\n",
    "num_atoms = a_structure.get_global_number_of_atoms()\n",
    "all_distances = a_structure.get_all_distances()\n",
    "\n",
    "# Arrange the distances to edge features\n",
    "edge_features = []\n",
    "for i in range(num_atoms):\n",
    "    for j in range(num_atoms):\n",
    "        edge_features.append(all_distances[i][j])"
   ]
  },
  {
   "cell_type": "markdown",
   "id": "Mo0qPKAXOvkN",
   "metadata": {
    "id": "Mo0qPKAXOvkN"
   },
   "source": [
    "### Global attributes"
   ]
  },
  {
   "cell_type": "code",
   "execution_count": null,
   "id": "3aSKimL-XpKy",
   "metadata": {
    "colab": {
     "base_uri": "https://localhost:8080/"
    },
    "executionInfo": {
     "elapsed": 82,
     "status": "ok",
     "timestamp": 1749311054618,
     "user": {
      "displayName": "SPTI/01041/2021 MUTUA ADAM K",
      "userId": "15783670122064384507"
     },
     "user_tz": -180
    },
    "id": "3aSKimL-XpKy",
    "outputId": "d578c425-fb00-4b0f-bca5-a27676db1670"
   },
   "outputs": [],
   "source": [
    "global_attr = [new_structure.volume,\n",
    "            new_structure.lattice.abc[0],\n",
    "            new_structure.lattice.abc[1],\n",
    "            new_structure.lattice.abc[2],\n",
    "            new_structure.lattice.angles[0],\n",
    "            new_structure.lattice.angles[1],\n",
    "            new_structure.lattice.angles[2],\n",
    "            new_structure.density.real,\n",
    "            new_structure.num_sites,\n",
    "            new_structure.get_space_group_info()[1],\n",
    "            new_structure.n_elems\n",
    "]\n",
    "\n",
    "if new_structure.is_3d_periodic == True:\n",
    "    global_attr.append(1)\n",
    "else:\n",
    "    global_attr.append(0)\n",
    "\n",
    "if new_structure.is_ordered == True:\n",
    "    global_attr.append(1)\n",
    "else:\n",
    "    global_attr.append(0)\n",
    "\n",
    "print(global_attr)"
   ]
  },
  {
   "cell_type": "code",
   "execution_count": null,
   "id": "m4i7ctw5tiQE",
   "metadata": {
    "colab": {
     "base_uri": "https://localhost:8080/"
    },
    "executionInfo": {
     "elapsed": 20,
     "status": "ok",
     "timestamp": 1749311054641,
     "user": {
      "displayName": "SPTI/01041/2021 MUTUA ADAM K",
      "userId": "15783670122064384507"
     },
     "user_tz": -180
    },
    "id": "m4i7ctw5tiQE",
    "outputId": "9d1d7f7e-2b58-483b-f762-1449b609837d"
   },
   "outputs": [],
   "source": [
    "# From ase structure\n",
    "\n",
    "print([a_structure.get_volume()])"
   ]
  },
  {
   "cell_type": "markdown",
   "id": "b01bf031",
   "metadata": {
    "id": "b01bf031"
   },
   "source": [
    "### Target values"
   ]
  },
  {
   "cell_type": "code",
   "execution_count": null,
   "id": "550064a1",
   "metadata": {
    "colab": {
     "base_uri": "https://localhost:8080/",
     "height": 445
    },
    "executionInfo": {
     "elapsed": 165,
     "status": "ok",
     "timestamp": 1749311054809,
     "user": {
      "displayName": "SPTI/01041/2021 MUTUA ADAM K",
      "userId": "15783670122064384507"
     },
     "user_tz": -180
    },
    "id": "550064a1",
    "outputId": "c5f95f8e-e9d5-4a9a-94e5-e7a4f378a17a"
   },
   "outputs": [],
   "source": [
    "# Get the target values\n",
    "targ = data_df[\"absorption_coefficient\"][100]\n",
    "\n",
    "# plot\n",
    "plt.plot(targ, '-')\n",
    "plt.ylabel(\"Absorption coefficient\")\n",
    "plt.show()"
   ]
  },
  {
   "cell_type": "markdown",
   "id": "1d3d3181",
   "metadata": {},
   "source": [
    "## Normalizing Target Value"
   ]
  },
  {
   "cell_type": "markdown",
   "id": "A0dGfHvDAQqs",
   "metadata": {
    "id": "A0dGfHvDAQqs"
   },
   "source": [
    "The target values were so dispersed that the model could not identify any patterns. To solve this, you **normalize** the target values. Once the model has learned the patterns and made predictions, you **denormalize** the predicted values to get the actual predicted values"
   ]
  },
  {
   "cell_type": "markdown",
   "id": "ONJEiiU6BF4e",
   "metadata": {
    "id": "ONJEiiU6BF4e"
   },
   "source": [
    "We normalize by finding: $\\log(1 + x)$. We use this ethod because it handles $\\log(0)$ safely.\n",
    "Once you find the log of every value, you fit them between values -1 and 1 using `StandardScaler.fit_transform(<log results>)`"
   ]
  },
  {
   "cell_type": "code",
   "execution_count": null,
   "id": "8cGuPz290FFH",
   "metadata": {
    "colab": {
     "base_uri": "https://localhost:8080/",
     "height": 430
    },
    "executionInfo": {
     "elapsed": 320,
     "status": "ok",
     "timestamp": 1749311055128,
     "user": {
      "displayName": "SPTI/01041/2021 MUTUA ADAM K",
      "userId": "15783670122064384507"
     },
     "user_tz": -180
    },
    "id": "8cGuPz290FFH",
    "outputId": "bd1dde15-da05-4539-9daf-f0bcfe350ede"
   },
   "outputs": [],
   "source": [
    "def log_1p_norm(targ):\n",
    "    y_log = np.log1p(new_targ)\n",
    "    y_scaled = scaler.fit_transform(y_log.reshape(-1,1)).flatten()\n",
    "    return y_scaled\n",
    "\n",
    "# Normalize the target values\n",
    "y_scaled = log_1p_norm(targ)\n",
    "\n",
    "# Plot the normalized target values.\n",
    "plt.plot(y_scaled, '-')\n",
    "plt.ylabel(\"Absorption coefficient\")\n",
    "plt.show()"
   ]
  },
  {
   "cell_type": "markdown",
   "id": "59a44f73",
   "metadata": {},
   "source": [
    "## Denormalizing"
   ]
  },
  {
   "cell_type": "markdown",
   "id": "YBZrvJJ4B2uZ",
   "metadata": {
    "id": "YBZrvJJ4B2uZ"
   },
   "source": [
    "We then denormalize by doing the reverse of the normalization process i.e. Finding the inverse transform of the predicted values using `SatandardScaler.inverse_transform(<predicted values>)`\n",
    "Then use `np.expem1(<array_after_inverse_transform>)` to calculate ``exp(x) - 1`` for all elements in the array."
   ]
  },
  {
   "cell_type": "code",
   "execution_count": null,
   "id": "wCxOhPeT2i-q",
   "metadata": {
    "colab": {
     "base_uri": "https://localhost:8080/",
     "height": 445
    },
    "executionInfo": {
     "elapsed": 293,
     "status": "ok",
     "timestamp": 1749311055416,
     "user": {
      "displayName": "SPTI/01041/2021 MUTUA ADAM K",
      "userId": "15783670122064384507"
     },
     "user_tz": -180
    },
    "id": "wCxOhPeT2i-q",
    "outputId": "dc97e9ce-01cc-4f08-e9d8-af686ae6cdcd"
   },
   "outputs": [],
   "source": [
    "# Denormalize the normalized target values\n",
    "def log_1p_denorm(the_scaled):\n",
    "    y_pred_log = scaler.inverse_transform(the_scaled.reshape(-1, 1)).flatten()\n",
    "    y_pred_original = np.expm1(y_pred_log)  # inverse of log1p\n",
    "    return y_pred_original\n",
    "\n",
    "y_pred_original = log_1p_denorm(y_scaled)\n",
    "\n",
    "plt.plot(y_pred_original, '-')\n",
    "plt.ylabel(\"Absorption coefficient\")\n",
    "plt.show()\n"
   ]
  },
  {
   "cell_type": "markdown",
   "id": "33f37ef7",
   "metadata": {
    "id": "33f37ef7"
   },
   "source": [
    "## Now as a function that will iterate through the whole dataset"
   ]
  },
  {
   "cell_type": "code",
   "execution_count": null,
   "id": "HMVmVxMngP_n",
   "metadata": {
    "executionInfo": {
     "elapsed": 5,
     "status": "ok",
     "timestamp": 1749311055422,
     "user": {
      "displayName": "SPTI/01041/2021 MUTUA ADAM K",
      "userId": "15783670122064384507"
     },
     "user_tz": -180
    },
    "id": "HMVmVxMngP_n"
   },
   "outputs": [],
   "source": [
    "# These values are obtain through mendeleev\n",
    "# {Element: [dipole polarizability, radius]}\n",
    "\n",
    "dip_rad = {'H': [32.0, 4.50711], 'He': [46.0, 1.38375], 'Li': [133.0, 164.1125],\n",
    "           'Be': [102.0, 37.74], 'B': [85.0, 20.5], 'C': [75.0, 11.3],\n",
    "           'N': [71.0, 7.4], 'O': [63.0, 5.3], 'F': [64.0, 3.74],\n",
    "           'Ne': [67.0, 2.6611], 'Na': [155.0, 162.7], 'Mg': [139.0, 71.2],\n",
    "           'Al': [126.0, 57.8], 'Si': [115.99999999999999, 37.3],\n",
    "           'P': [111.00000000000001, 25.0], 'S': [103.0, 19.4], 'Cl': [99.0, 14.6],\n",
    "           'Ar': [96.0, 11.083], 'K': [196.0, 289.7], 'Ca': [171.0, 160.8],\n",
    "           'Sc': [148.0, 97.0], 'Ti': [136.0, 100.0], 'V': [134.0, 87.0],\n",
    "           'Cr': [122.0, 83.0], 'Mn': [119.0, 68.0], 'Fe': [115.99999999999999, 62.0],\n",
    "           'Co': [111.00000000000001, 55.0], 'Ni': [110.00000000000001, 49.0],\n",
    "           'Cu': [112.00000000000001, 46.5], 'Zn': [118.0, 38.67], 'Ga': [124.0, 50.0],\n",
    "           'Ge': [121.0, 40.0], 'As': [121.0, 30.0], 'Se': [115.99999999999999, 28.9],\n",
    "           'Br': [113.99999999999999, 21.0], 'Kr': [117.0, 16.78], 'Rb': [210.0, 319.8],\n",
    "           'Sr': [185.0, 197.2], 'Y': [163.0, 162.0], 'Zr': [154.0, 112.0],\n",
    "           'Nb': [147.0, 98.0], 'Mo': [138.0, 87.0], 'Tc': [128.0, 79.0],\n",
    "           'Ru': [125.0, 72.0], 'Rh': [125.0, 66.0], 'Pd': [120.0, 26.14],\n",
    "           'Ag': [128.0, 55.0], 'Cd': [136.0, 46.0], 'In': [142.0, 65.0],\n",
    "           'Sn': [140.0, 53.0], 'Sb': [140.0, 43.0], 'Te': [136.0, 38.0],\n",
    "           'I': [133.0, 32.9], 'Xe': [131.0, 27.32], 'Cs': [231.99999999999997, 400.9],\n",
    "           'Ba': [196.0, 272.0], 'La': [180.0, 215.0], 'Ce': [163.0, 205.0],\n",
    "           'Pr': [176.0, 216.0], 'Nd': [174.0, 208.0], 'Pm': [173.0, 200.0],\n",
    "           'Sm': [172.0, 192.0], 'Eu': [168.0, 184.0], 'Gd': [169.0, 158.0],\n",
    "           'Tb': [168.0, 170.0], 'Dy': [167.0, 163.0], 'Ho': [166.0, 156.0],\n",
    "           'Er': [165.0, 150.0], 'Tm': [164.0, 144.0], 'Yb': [170.0, 139.0],\n",
    "           'Lu': [162.0, 137.0], 'Hf': [152.0, 103.0], 'Ta': [146.0, 74.0],\n",
    "           'W': [137.0, 68.0], 'Re': [131.0, 62.0], 'Os': [129.0, 57.0],\n",
    "           'Ir': [122.0, 54.0], 'Pt': [123.0, 48.0], 'Au': [124.0, 36.0],\n",
    "           'Hg': [133.0, 33.91], 'Tl': [144.0, 50.0], 'Pb': [144.0, 47.0],\n",
    "           'Bi': [151.0, 48.0], 'Po': [145.0, 44.0], 'At': [147.0, 42.0],\n",
    "           'Rn': [142.0, 35.0], 'Fr': [223.0, 317.8], 'Ra': [200.99999999999997, 246.0],\n",
    "           'Ac': [186.0, 203.0], 'Th': [175.0, 217.0], 'Pa': [169.0, 154.0],\n",
    "           'U': [170.0, 129.0], 'Np': [171.0, 151.0], 'Pu': [172.0, 132.0],\n",
    "           'Am': [166.0, 131.0], 'Cm': [166.0, 144.0], 'Bk': [168.0, 125.0],\n",
    "           'Cf': [168.0, 122.0], 'Es': [165.0, 118.0], 'Fm': [167.0, 113.0],\n",
    "           'Md': [173.0, 109.0], 'No': [176.0, 110.0], 'Lr': [161.0, 320.0],\n",
    "           'Rf': [157.0, 112.0], 'Db': [149.0, 42.0], 'Sg': [143.0, 40.0],\n",
    "           'Bh': [141.0, 38.0], 'Hs': [134.0, 36.0], 'Mt': [129.0, 34.0],\n",
    "           'Ds': [128.0, 32.0], 'Rg': [121.0, 32.0], 'Cn': [122.0, 28.0],\n",
    "           'Nh': [136.0, 29.0], 'Fl': [143.0, 31.0], 'Mc': [162.0, 71.0],\n",
    "           'Lv': [175.0, 0.0], 'Ts': [165.0, 76.0], 'Og': [157.0, 58.0]}"
   ]
  },
  {
   "cell_type": "code",
   "execution_count": null,
   "id": "JGUom5fxrtL6",
   "metadata": {
    "executionInfo": {
     "elapsed": 43443,
     "status": "ok",
     "timestamp": 1749311098869,
     "user": {
      "displayName": "SPTI/01041/2021 MUTUA ADAM K",
      "userId": "15783670122064384507"
     },
     "user_tz": -180
    },
    "id": "JGUom5fxrtL6"
   },
   "outputs": [],
   "source": [
    "# Combining\n",
    "def get_graph(row):\n",
    "\n",
    "    # Basic things\n",
    "    py_struct = row[\"pymatgen_structure\"]\n",
    "\n",
    "    num_atoms = py_struct.num_sites\n",
    "    the_lattice = py_struct.lattice.matrix\n",
    "    sites_list = py_struct.sites\n",
    "\n",
    "    # Nodes\n",
    "    all_nodes = []\n",
    "\n",
    "    # Nodes from pymatgen structure\n",
    "    atomic_nums = py_struct.atomic_numbers\n",
    "    carts  = py_struct.cart_coords\n",
    "    fracs = py_struct.frac_coords\n",
    "\n",
    "    # Edges and edge attributes\n",
    "    all_info = mdnn.get_all_nn_info(py_struct)\n",
    "    # all_info = voronoi_nn.get_all_nn_info(py_struct)\n",
    "\n",
    "    # Edges\n",
    "    from_atoms = []\n",
    "    to_atoms = []\n",
    "\n",
    "    # Edge attributes\n",
    "    edge_attrs = []\n",
    "\n",
    "    for i in range(num_atoms):\n",
    "        symb = py_struct[i].specie.symbol\n",
    "        the_nodes = [atomic_nums[i],\n",
    "                     Element(symb).atomic_mass.real,\n",
    "                     # CovalentRadius.radius[symb],\n",
    "                     dip_rad[symb][0],\n",
    "                     dip_rad[symb][1],\n",
    "                     # Element(symb).van_der_waals_radius.real,\n",
    "                     # Element(symb).molar_volume.real,\n",
    "                     carts[i][0], carts[i][1], carts[i][2],\n",
    "                     # fracs[i][0], fracs[i][1], fracs[i][2]\n",
    "                     ]\n",
    "        all_nodes.append(the_nodes)\n",
    "\n",
    "        for neighbor in range(len(all_info[i])):\n",
    "            # Edges\n",
    "            from_atoms.append(i)\n",
    "            to_index = all_info[i][neighbor][\"site_index\"]\n",
    "            to_atoms.append(to_index)\n",
    "\n",
    "            # Shift vector\n",
    "            shift = np.dot(all_info[i][neighbor][\"image\"], the_lattice)\n",
    "            direct_vec = carts[to_index] - carts[i]\n",
    "            shift_vector = direct_vec + shift\n",
    "\n",
    "            # Edge attributes\n",
    "            edge_attrs.append([all_info[i][neighbor][\"weight\"],\n",
    "                            sites_list[i].distance(all_info[i][neighbor][\"site\"]),\n",
    "                            shift[0], shift[1], shift[2],\n",
    "                            shift_vector[0], shift_vector[1], shift_vector[2]\n",
    "                ])\n",
    "\n",
    "\n",
    "    global_attr = [py_struct.volume,\n",
    "                py_struct.density.real,\n",
    "                py_struct.num_sites,\n",
    "                py_struct.get_space_group_info()[1],\n",
    "                py_struct.n_elems\n",
    "    ]\n",
    "\n",
    "    if py_struct.is_3d_periodic == True:\n",
    "        global_attr.append(1)\n",
    "    else:\n",
    "        global_attr.append(0)\n",
    "\n",
    "    if py_struct.is_ordered == True:\n",
    "        global_attr.append(1)\n",
    "    else:\n",
    "        global_attr.append(0)\n",
    "\n",
    "    # global_attr.append(row['bandgap'])\n",
    "\n",
    "    edges = [from_atoms, to_atoms]\n",
    "\n",
    "    all_nodes = scaler.fit_transform(all_nodes)\n",
    "    edge_attrs = scaler.fit_transform(edge_attrs)\n",
    "    global_attr = scaler.fit_transform([global_attr])\n",
    "\n",
    "    targ = row[\"absorption_coefficient\"]\n",
    "\n",
    "    normalized = log_1p_norm(targ)\n",
    "\n",
    "    graph_data = Data(x=torch.tensor(all_nodes, dtype=torch.float),\n",
    "                    edge_index=torch.tensor(edges, dtype=torch.long),\n",
    "                    edge_attr=torch.tensor(edge_attrs, dtype=torch.float),\n",
    "                    u=torch.tensor(global_attr[0], dtype=torch.float).unsqueeze(0),\n",
    "                    y=torch.tensor(normalized).unsqueeze(0))\n",
    "\n",
    "    return graph_data\n",
    "\n",
    "the_graphs = data_df.apply(lambda row: get_graph(row), axis=1).to_list()\n",
    "the_graphs[0]"
   ]
  },
  {
   "cell_type": "markdown",
   "id": "4bfe5ddb",
   "metadata": {},
   "source": [
    "## Splitting the data"
   ]
  },
  {
   "cell_type": "code",
   "execution_count": null,
   "id": "d3148423",
   "metadata": {
    "executionInfo": {
     "elapsed": 4,
     "status": "ok",
     "timestamp": 1749311099021,
     "user": {
      "displayName": "SPTI/01041/2021 MUTUA ADAM K",
      "userId": "15783670122064384507"
     },
     "user_tz": -180
    },
    "id": "d3148423"
   },
   "outputs": [],
   "source": [
    "# Split the data\n",
    "from sklearn.model_selection import train_test_split\n",
    "train_graphs, test_graphs = train_test_split(the_graphs, test_size=0.1, random_state=42) # For original\n",
    "train_graphs, val_graphs = train_test_split(train_graphs, test_size=0.1, random_state=42)\n"
   ]
  },
  {
   "cell_type": "markdown",
   "id": "cec86faf",
   "metadata": {},
   "source": [
    "## Building Dataloaders"
   ]
  },
  {
   "cell_type": "code",
   "execution_count": null,
   "id": "8b7620bf",
   "metadata": {
    "colab": {
     "base_uri": "https://localhost:8080/"
    },
    "executionInfo": {
     "elapsed": 11,
     "status": "ok",
     "timestamp": 1749311099034,
     "user": {
      "displayName": "SPTI/01041/2021 MUTUA ADAM K",
      "userId": "15783670122064384507"
     },
     "user_tz": -180
    },
    "id": "8b7620bf",
    "outputId": "74b9e641-e955-41ed-b625-f012a0137ca4"
   },
   "outputs": [],
   "source": [
    "# Create data loaders\n",
    "train_loader = DataLoader(train_graphs, batch_size=32, shuffle=True)\n",
    "val_loader = DataLoader(val_graphs, batch_size=32, shuffle=False)\n",
    "test_loader = DataLoader(test_graphs, batch_size=32, shuffle=False)"
   ]
  },
  {
   "cell_type": "code",
   "execution_count": null,
   "id": "b3bFTg6V3qWf",
   "metadata": {
    "colab": {
     "base_uri": "https://localhost:8080/"
    },
    "executionInfo": {
     "elapsed": 13,
     "status": "ok",
     "timestamp": 1749311099050,
     "user": {
      "displayName": "SPTI/01041/2021 MUTUA ADAM K",
      "userId": "15783670122064384507"
     },
     "user_tz": -180
    },
    "id": "b3bFTg6V3qWf",
    "outputId": "facab14a-db56-476a-9ec1-ac47330ca946"
   },
   "outputs": [],
   "source": [
    "for data in train_loader:\n",
    "    print(data)\n",
    "    break"
   ]
  },
  {
   "cell_type": "markdown",
   "id": "36e40d2c",
   "metadata": {},
   "source": [
    "## Libraries to create GNN model"
   ]
  },
  {
   "cell_type": "code",
   "execution_count": null,
   "id": "e430a3a1",
   "metadata": {
    "executionInfo": {
     "elapsed": 3,
     "status": "ok",
     "timestamp": 1749311099056,
     "user": {
      "displayName": "SPTI/01041/2021 MUTUA ADAM K",
      "userId": "15783670122064384507"
     },
     "user_tz": -180
    },
    "id": "e430a3a1"
   },
   "outputs": [],
   "source": [
    "# Import dependencies for the model\n",
    "import torch.nn as nn\n",
    "import torch.nn.functional as F\n",
    "from torch_geometric.nn import NNConv, global_mean_pool"
   ]
  },
  {
   "cell_type": "markdown",
   "id": "af33a4d5",
   "metadata": {},
   "source": [
    "## Model architecture"
   ]
  },
  {
   "cell_type": "code",
   "execution_count": null,
   "id": "6ce5e568",
   "metadata": {
    "executionInfo": {
     "elapsed": 3,
     "status": "ok",
     "timestamp": 1749311099062,
     "user": {
      "displayName": "SPTI/01041/2021 MUTUA ADAM K",
      "userId": "15783670122064384507"
     },
     "user_tz": -180
    },
    "id": "6ce5e568"
   },
   "outputs": [],
   "source": [
    "# The model\n",
    "class GNNabsorption(nn.Module):\n",
    "    def __init__(self, node_dim, edge_dim, global_dim, hidden_dim):\n",
    "        super().__init__()\n",
    "        # Edge NN maps edge_attr to weight matrix\n",
    "        self.edge_nn = nn.Sequential(\n",
    "            nn.Linear(edge_dim, 64),\n",
    "            nn.ReLU(),\n",
    "            nn.Linear(64, node_dim * hidden_dim)\n",
    "        )\n",
    "\n",
    "        self.conv1 = NNConv(node_dim, hidden_dim, self.edge_nn, aggr='mean')\n",
    "        self.fc1 = nn.Linear(hidden_dim + global_dim, 512)\n",
    "        self.fc2 = nn.Linear(512, 256)\n",
    "        self.fc3 = nn.Linear(256, 2001)\n",
    "\n",
    "    def forward(self, x, edge_index, edge_attr,batch, global_attr):\n",
    "        x = F.relu(self.conv1(x, edge_index, edge_attr))\n",
    "        x = global_mean_pool(x, batch)\n",
    "        x = torch.cat([x, global_attr], dim=1)\n",
    "        x = F.relu(self.fc1(x))\n",
    "        x = F.relu(self.fc2(x))\n",
    "        x = self.fc3(x)\n",
    "        return x\n",
    "\n",
    "# run the model in the gpu if the device has one\n",
    "device = torch.device('cuda' if torch.cuda.is_available() else 'cpu')\n",
    "\n",
    "# Instance of the model\n",
    "model = GNNabsorption(node_dim=7, edge_dim=8, global_dim=7, hidden_dim=256).to(device) # Without global features\n",
    "\n",
    "# optimizer\n",
    "optimizer = torch.optim.Adam(model.parameters(), lr=0.001)\n",
    "\n",
    "# Loss function\n",
    "loss_fn = nn.L1Loss()"
   ]
  },
  {
   "cell_type": "markdown",
   "id": "bf271d98",
   "metadata": {},
   "source": [
    "## Training, Evaluation and Training Loss"
   ]
  },
  {
   "cell_type": "code",
   "execution_count": null,
   "id": "54365e7f",
   "metadata": {
    "colab": {
     "base_uri": "https://localhost:8080/"
    },
    "collapsed": true,
    "executionInfo": {
     "elapsed": 18197,
     "status": "ok",
     "timestamp": 1749311117263,
     "user": {
      "displayName": "SPTI/01041/2021 MUTUA ADAM K",
      "userId": "15783670122064384507"
     },
     "user_tz": -180
    },
    "id": "54365e7f",
    "outputId": "37a70011-6922-49ce-acc1-fa2cba3228b2"
   },
   "outputs": [],
   "source": [
    "def train():\n",
    "    model.train()\n",
    "    total_loss = 0\n",
    "    for data in train_loader: # For each data point in the train loader\n",
    "        data = data.to(device) # Add data to gpu\n",
    "        optimizer.zero_grad()\n",
    "\n",
    "        out = model(data.x, data.edge_index, data.edge_attr, data.batch, data.u)# For original\n",
    "        loss = loss_fn(out, data.y) # Compare predicted value with actual value\n",
    "\n",
    "        # back propogation\n",
    "        loss.backward()\n",
    "        optimizer.step()\n",
    "\n",
    "        total_loss += loss.item() * data.num_graphs\n",
    "    return total_loss / len(train_loader.dataset)\n",
    "\n",
    "def evaluate(loader):\n",
    "    model.eval()\n",
    "    total_loss = 0\n",
    "    with torch.no_grad():\n",
    "        for data in loader:\n",
    "            data = data.to(device)\n",
    "            out = model(data.x, data.edge_index, data.edge_attr, data.batch, data.u) # For original\n",
    "            loss = loss_fn(out, data.y)\n",
    "            total_loss += loss.item() * data.num_graphs\n",
    "    return total_loss / len(loader.dataset)\n",
    "\n",
    "# Run training and testing\n",
    "train_losses = []\n",
    "val_losses = []\n",
    "for epoch in range(1, 20):\n",
    "    train_loss = train()\n",
    "    val_loss = evaluate(val_loader)\n",
    "    print(f'Epoch {epoch:03d}, Train Loss: {train_loss:.4f}, Val Loss: {val_loss:.4f}')\n",
    "    train_losses.append(train_loss)\n",
    "    val_losses.append(val_loss)\n",
    "\n",
    "test_loss = evaluate(test_loader)\n",
    "print(f'Test Loss: {test_loss:.4f}')"
   ]
  },
  {
   "cell_type": "markdown",
   "id": "cfef2182",
   "metadata": {},
   "source": [
    "## Visualizing Train-Valid Loss"
   ]
  },
  {
   "cell_type": "code",
   "execution_count": null,
   "id": "p8y4B0_4g3j9",
   "metadata": {
    "colab": {
     "base_uri": "https://localhost:8080/",
     "height": 472
    },
    "executionInfo": {
     "elapsed": 297,
     "status": "ok",
     "timestamp": 1749311117565,
     "user": {
      "displayName": "SPTI/01041/2021 MUTUA ADAM K",
      "userId": "15783670122064384507"
     },
     "user_tz": -180
    },
    "id": "p8y4B0_4g3j9",
    "outputId": "2c3fb726-0438-459a-978e-82233c584d36"
   },
   "outputs": [],
   "source": [
    "import matplotlib.pyplot as plt\n",
    "# Plotting the training and validation loss\n",
    "plt.plot(train_losses, label='Train Loss')\n",
    "plt.plot(val_losses, label='Validation Loss')\n",
    "plt.xlabel('Epoch')\n",
    "plt.ylabel('Loss')\n",
    "plt.title('Training and Validation Loss')\n",
    "plt.legend()\n",
    "plt.show()"
   ]
  },
  {
   "cell_type": "markdown",
   "id": "zViUDqn2agBu",
   "metadata": {
    "id": "zViUDqn2agBu"
   },
   "source": [
    "## Model deployment"
   ]
  },
  {
   "cell_type": "code",
   "execution_count": null,
   "id": "DMECgZEPKF-9",
   "metadata": {
    "executionInfo": {
     "elapsed": 52,
     "status": "ok",
     "timestamp": 1749311117621,
     "user": {
      "displayName": "SPTI/01041/2021 MUTUA ADAM K",
      "userId": "15783670122064384507"
     },
     "user_tz": -180
    },
    "id": "DMECgZEPKF-9"
   },
   "outputs": [],
   "source": [
    "# Let's get the predicted values from the model\n",
    "actual_values = []\n",
    "predicted_values = []\n",
    "\n",
    "with torch.no_grad():\n",
    "    for data in test_loader:\n",
    "        data = data.to(device)\n",
    "        out = model(data.x, data.edge_index, data.edge_attr, data.batch, data.u)\n",
    "        actual_values.append(data.y)\n",
    "        predicted_values.append(out)"
   ]
  },
  {
   "cell_type": "code",
   "execution_count": null,
   "id": "nfd0jWOnPI7H",
   "metadata": {
    "executionInfo": {
     "elapsed": 28,
     "status": "ok",
     "timestamp": 1749311117651,
     "user": {
      "displayName": "SPTI/01041/2021 MUTUA ADAM K",
      "userId": "15783670122064384507"
     },
     "user_tz": -180
    },
    "id": "nfd0jWOnPI7H"
   },
   "outputs": [],
   "source": [
    "# Focus on one material predicted\n",
    "attempt_act = actual_values[0][10]\n",
    "attempt_pred = predicted_values[0][10]"
   ]
  },
  {
   "cell_type": "code",
   "execution_count": null,
   "id": "yLA2PISvyt5Y",
   "metadata": {
    "colab": {
     "base_uri": "https://localhost:8080/"
    },
    "executionInfo": {
     "elapsed": 7,
     "status": "ok",
     "timestamp": 1749311117663,
     "user": {
      "displayName": "SPTI/01041/2021 MUTUA ADAM K",
      "userId": "15783670122064384507"
     },
     "user_tz": -180
    },
    "id": "yLA2PISvyt5Y",
    "outputId": "625f3c18-6b94-4286-cf22-786d6944d804"
   },
   "outputs": [],
   "source": [
    "# Did the model learn?\n",
    "from scipy.stats import pearsonr\n",
    "corr, _ = pearsonr(attempt_act, attempt_pred)\n",
    "print(f\"Correlation: {corr}\")\n",
    "\n",
    "# If corr is close to 0, the model did not learn\n",
    "# If corr is close to 1, the model learned"
   ]
  },
  {
   "cell_type": "code",
   "execution_count": null,
   "id": "maxcBY6nRYpO",
   "metadata": {
    "colab": {
     "base_uri": "https://localhost:8080/",
     "height": 452
    },
    "executionInfo": {
     "elapsed": 344,
     "status": "ok",
     "timestamp": 1749311118009,
     "user": {
      "displayName": "SPTI/01041/2021 MUTUA ADAM K",
      "userId": "15783670122064384507"
     },
     "user_tz": -180
    },
    "id": "maxcBY6nRYpO",
    "outputId": "c7ecd30b-396c-4aea-867e-c2d5a9d316fc"
   },
   "outputs": [],
   "source": [
    "# Plot for actual normalized values\n",
    "plt.subplot(1,2,1)\n",
    "plt.plot(attempt_act, label=\"actual\")\n",
    "plt.title(\"Actual normalized values\")\n",
    "\n",
    "# Plot for predicted normalized values\n",
    "plt.subplot(1,2,2)\n",
    "plt.plot(attempt_pred, label=\"predicted\")\n",
    "plt.title(\"Predicted normalized values\")\n",
    "\n",
    "plt.show()"
   ]
  },
  {
   "cell_type": "code",
   "execution_count": null,
   "id": "G9FtZY0FPhf5",
   "metadata": {
    "executionInfo": {
     "elapsed": 19,
     "status": "ok",
     "timestamp": 1749311118031,
     "user": {
      "displayName": "SPTI/01041/2021 MUTUA ADAM K",
      "userId": "15783670122064384507"
     },
     "user_tz": -180
    },
    "id": "G9FtZY0FPhf5"
   },
   "outputs": [],
   "source": [
    "# Denormalize the values\n",
    "new_attempt_act = log_1p_denorm(attempt_act)\n",
    "new_attempt_pred = log_1p_denorm(attempt_pred)"
   ]
  },
  {
   "cell_type": "code",
   "execution_count": null,
   "id": "9hbM24wtPsDj",
   "metadata": {
    "colab": {
     "base_uri": "https://localhost:8080/",
     "height": 467
    },
    "executionInfo": {
     "elapsed": 280,
     "status": "ok",
     "timestamp": 1749311118317,
     "user": {
      "displayName": "SPTI/01041/2021 MUTUA ADAM K",
      "userId": "15783670122064384507"
     },
     "user_tz": -180
    },
    "id": "9hbM24wtPsDj",
    "outputId": "257d2221-faab-45eb-8ddd-4b9887cd9246"
   },
   "outputs": [],
   "source": [
    "# plot for actual denormalized values\n",
    "plt.subplot(1,2,1)\n",
    "plt.plot(new_attempt_act, label=\"actual\")\n",
    "plt.title(\"Actual denormalized values\")\n",
    "\n",
    "# plot for predicted denormalized values\n",
    "plt.subplot(1,2,2)\n",
    "plt.plot(new_attempt_pred, label=\"predicted\")\n",
    "plt.title(\"predicted denormalized values\")\n",
    "\n",
    "plt.show()"
   ]
  },
  {
   "cell_type": "markdown",
   "id": "wpEUHbDsGyqK",
   "metadata": {
    "id": "wpEUHbDsGyqK"
   },
   "source": [
    "Next step would be to try to refine the model to increase its accuracy score.\n",
    "\n",
    "This would be by choosing the best features, adding, or removing features."
   ]
  }
 ],
 "metadata": {
  "colab": {
   "provenance": []
  },
  "kernelspec": {
   "display_name": "MUTUSE",
   "language": "python",
   "name": "python3"
  },
  "language_info": {
   "codemirror_mode": {
    "name": "ipython",
    "version": 3
   },
   "file_extension": ".py",
   "mimetype": "text/x-python",
   "name": "python",
   "nbconvert_exporter": "python",
   "pygments_lexer": "ipython3",
   "version": "3.13.3"
  },
  "widgets": {
   "application/vnd.jupyter.widget-state+json": {
    "068fc6ccde9f4d94885fee4885e619e2": {
     "model_module": "@jupyter-widgets/controls",
     "model_module_version": "1.5.0",
     "model_name": "HTMLModel",
     "state": {
      "_dom_classes": [],
      "_model_module": "@jupyter-widgets/controls",
      "_model_module_version": "1.5.0",
      "_model_name": "HTMLModel",
      "_view_count": null,
      "_view_module": "@jupyter-widgets/controls",
      "_view_module_version": "1.5.0",
      "_view_name": "HTMLView",
      "description": "",
      "description_tooltip": null,
      "layout": "IPY_MODEL_1f6f1cf76a674f61a9472ede1aec0138",
      "placeholder": "​",
      "style": "IPY_MODEL_54c5cc14eb8c49efad6121623509e126",
      "value": "Retrieving SummaryDoc documents: 100%"
     }
    },
    "1e5168030f574d8e84ddb9aa44f755eb": {
     "model_module": "@jupyter-widgets/controls",
     "model_module_version": "1.5.0",
     "model_name": "DescriptionStyleModel",
     "state": {
      "_model_module": "@jupyter-widgets/controls",
      "_model_module_version": "1.5.0",
      "_model_name": "DescriptionStyleModel",
      "_view_count": null,
      "_view_module": "@jupyter-widgets/base",
      "_view_module_version": "1.2.0",
      "_view_name": "StyleView",
      "description_width": ""
     }
    },
    "1f6f1cf76a674f61a9472ede1aec0138": {
     "model_module": "@jupyter-widgets/base",
     "model_module_version": "1.2.0",
     "model_name": "LayoutModel",
     "state": {
      "_model_module": "@jupyter-widgets/base",
      "_model_module_version": "1.2.0",
      "_model_name": "LayoutModel",
      "_view_count": null,
      "_view_module": "@jupyter-widgets/base",
      "_view_module_version": "1.2.0",
      "_view_name": "LayoutView",
      "align_content": null,
      "align_items": null,
      "align_self": null,
      "border": null,
      "bottom": null,
      "display": null,
      "flex": null,
      "flex_flow": null,
      "grid_area": null,
      "grid_auto_columns": null,
      "grid_auto_flow": null,
      "grid_auto_rows": null,
      "grid_column": null,
      "grid_gap": null,
      "grid_row": null,
      "grid_template_areas": null,
      "grid_template_columns": null,
      "grid_template_rows": null,
      "height": null,
      "justify_content": null,
      "justify_items": null,
      "left": null,
      "margin": null,
      "max_height": null,
      "max_width": null,
      "min_height": null,
      "min_width": null,
      "object_fit": null,
      "object_position": null,
      "order": null,
      "overflow": null,
      "overflow_x": null,
      "overflow_y": null,
      "padding": null,
      "right": null,
      "top": null,
      "visibility": null,
      "width": null
     }
    },
    "2801f1f742be4eb1b491ad36d8696f5e": {
     "model_module": "@jupyter-widgets/controls",
     "model_module_version": "1.5.0",
     "model_name": "ProgressStyleModel",
     "state": {
      "_model_module": "@jupyter-widgets/controls",
      "_model_module_version": "1.5.0",
      "_model_name": "ProgressStyleModel",
      "_view_count": null,
      "_view_module": "@jupyter-widgets/base",
      "_view_module_version": "1.2.0",
      "_view_name": "StyleView",
      "bar_color": null,
      "description_width": ""
     }
    },
    "4404d17c96f2450faaf8451817fe5c74": {
     "model_module": "@jupyter-widgets/controls",
     "model_module_version": "1.5.0",
     "model_name": "FloatProgressModel",
     "state": {
      "_dom_classes": [],
      "_model_module": "@jupyter-widgets/controls",
      "_model_module_version": "1.5.0",
      "_model_name": "FloatProgressModel",
      "_view_count": null,
      "_view_module": "@jupyter-widgets/controls",
      "_view_module_version": "1.5.0",
      "_view_name": "ProgressView",
      "bar_style": "success",
      "description": "",
      "description_tooltip": null,
      "layout": "IPY_MODEL_cc1bc14ef81c4d729141c9de2cf8b09c",
      "max": 940,
      "min": 0,
      "orientation": "horizontal",
      "style": "IPY_MODEL_2801f1f742be4eb1b491ad36d8696f5e",
      "value": 940
     }
    },
    "54c5cc14eb8c49efad6121623509e126": {
     "model_module": "@jupyter-widgets/controls",
     "model_module_version": "1.5.0",
     "model_name": "DescriptionStyleModel",
     "state": {
      "_model_module": "@jupyter-widgets/controls",
      "_model_module_version": "1.5.0",
      "_model_name": "DescriptionStyleModel",
      "_view_count": null,
      "_view_module": "@jupyter-widgets/base",
      "_view_module_version": "1.2.0",
      "_view_name": "StyleView",
      "description_width": ""
     }
    },
    "74d826567c9a401985d25945e5d72f01": {
     "model_module": "@jupyter-widgets/base",
     "model_module_version": "1.2.0",
     "model_name": "LayoutModel",
     "state": {
      "_model_module": "@jupyter-widgets/base",
      "_model_module_version": "1.2.0",
      "_model_name": "LayoutModel",
      "_view_count": null,
      "_view_module": "@jupyter-widgets/base",
      "_view_module_version": "1.2.0",
      "_view_name": "LayoutView",
      "align_content": null,
      "align_items": null,
      "align_self": null,
      "border": null,
      "bottom": null,
      "display": null,
      "flex": null,
      "flex_flow": null,
      "grid_area": null,
      "grid_auto_columns": null,
      "grid_auto_flow": null,
      "grid_auto_rows": null,
      "grid_column": null,
      "grid_gap": null,
      "grid_row": null,
      "grid_template_areas": null,
      "grid_template_columns": null,
      "grid_template_rows": null,
      "height": null,
      "justify_content": null,
      "justify_items": null,
      "left": null,
      "margin": null,
      "max_height": null,
      "max_width": null,
      "min_height": null,
      "min_width": null,
      "object_fit": null,
      "object_position": null,
      "order": null,
      "overflow": null,
      "overflow_x": null,
      "overflow_y": null,
      "padding": null,
      "right": null,
      "top": null,
      "visibility": null,
      "width": null
     }
    },
    "ab9f8c50c28b4da1b1496789b58c886c": {
     "model_module": "@jupyter-widgets/base",
     "model_module_version": "1.2.0",
     "model_name": "LayoutModel",
     "state": {
      "_model_module": "@jupyter-widgets/base",
      "_model_module_version": "1.2.0",
      "_model_name": "LayoutModel",
      "_view_count": null,
      "_view_module": "@jupyter-widgets/base",
      "_view_module_version": "1.2.0",
      "_view_name": "LayoutView",
      "align_content": null,
      "align_items": null,
      "align_self": null,
      "border": null,
      "bottom": null,
      "display": null,
      "flex": null,
      "flex_flow": null,
      "grid_area": null,
      "grid_auto_columns": null,
      "grid_auto_flow": null,
      "grid_auto_rows": null,
      "grid_column": null,
      "grid_gap": null,
      "grid_row": null,
      "grid_template_areas": null,
      "grid_template_columns": null,
      "grid_template_rows": null,
      "height": null,
      "justify_content": null,
      "justify_items": null,
      "left": null,
      "margin": null,
      "max_height": null,
      "max_width": null,
      "min_height": null,
      "min_width": null,
      "object_fit": null,
      "object_position": null,
      "order": null,
      "overflow": null,
      "overflow_x": null,
      "overflow_y": null,
      "padding": null,
      "right": null,
      "top": null,
      "visibility": null,
      "width": null
     }
    },
    "ad1fb53b90e745b483c6e30bffd84df9": {
     "model_module": "@jupyter-widgets/controls",
     "model_module_version": "1.5.0",
     "model_name": "HBoxModel",
     "state": {
      "_dom_classes": [],
      "_model_module": "@jupyter-widgets/controls",
      "_model_module_version": "1.5.0",
      "_model_name": "HBoxModel",
      "_view_count": null,
      "_view_module": "@jupyter-widgets/controls",
      "_view_module_version": "1.5.0",
      "_view_name": "HBoxView",
      "box_style": "",
      "children": [
       "IPY_MODEL_068fc6ccde9f4d94885fee4885e619e2",
       "IPY_MODEL_4404d17c96f2450faaf8451817fe5c74",
       "IPY_MODEL_e390eab36ab94fb9984055615a57da43"
      ],
      "layout": "IPY_MODEL_ab9f8c50c28b4da1b1496789b58c886c"
     }
    },
    "cc1bc14ef81c4d729141c9de2cf8b09c": {
     "model_module": "@jupyter-widgets/base",
     "model_module_version": "1.2.0",
     "model_name": "LayoutModel",
     "state": {
      "_model_module": "@jupyter-widgets/base",
      "_model_module_version": "1.2.0",
      "_model_name": "LayoutModel",
      "_view_count": null,
      "_view_module": "@jupyter-widgets/base",
      "_view_module_version": "1.2.0",
      "_view_name": "LayoutView",
      "align_content": null,
      "align_items": null,
      "align_self": null,
      "border": null,
      "bottom": null,
      "display": null,
      "flex": null,
      "flex_flow": null,
      "grid_area": null,
      "grid_auto_columns": null,
      "grid_auto_flow": null,
      "grid_auto_rows": null,
      "grid_column": null,
      "grid_gap": null,
      "grid_row": null,
      "grid_template_areas": null,
      "grid_template_columns": null,
      "grid_template_rows": null,
      "height": null,
      "justify_content": null,
      "justify_items": null,
      "left": null,
      "margin": null,
      "max_height": null,
      "max_width": null,
      "min_height": null,
      "min_width": null,
      "object_fit": null,
      "object_position": null,
      "order": null,
      "overflow": null,
      "overflow_x": null,
      "overflow_y": null,
      "padding": null,
      "right": null,
      "top": null,
      "visibility": null,
      "width": null
     }
    },
    "e390eab36ab94fb9984055615a57da43": {
     "model_module": "@jupyter-widgets/controls",
     "model_module_version": "1.5.0",
     "model_name": "HTMLModel",
     "state": {
      "_dom_classes": [],
      "_model_module": "@jupyter-widgets/controls",
      "_model_module_version": "1.5.0",
      "_model_name": "HTMLModel",
      "_view_count": null,
      "_view_module": "@jupyter-widgets/controls",
      "_view_module_version": "1.5.0",
      "_view_name": "HTMLView",
      "description": "",
      "description_tooltip": null,
      "layout": "IPY_MODEL_74d826567c9a401985d25945e5d72f01",
      "placeholder": "​",
      "style": "IPY_MODEL_1e5168030f574d8e84ddb9aa44f755eb",
      "value": " 940/940 [00:00&lt;00:00, 16835.68it/s]"
     }
    }
   }
  }
 },
 "nbformat": 4,
 "nbformat_minor": 5
}
