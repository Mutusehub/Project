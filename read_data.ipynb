{
 "cells": [
  {
   "cell_type": "code",
   "execution_count": null,
   "metadata": {},
   "outputs": [],
   "source": [
    "import sys\n",
    "\n",
    "if \"google.colab\" in sys.modules:\n",
    "    # Mount Google Drive\n",
    "    from google.colab import drive\n",
    "    drive.mount('/content/drive')\n",
    "\n",
    "    # Install required packages\n",
    "    !pip install ase torch_geometric\n",
    "    import torch\n",
    "    from torch_geometric.data import Data, DataLoader\n",
    "\n",
    "    dataset = \"/content/drive/My Drive\"\n",
    "else:\n",
    "    dataset = \"Dataset\""
   ]
  },
  {
   "cell_type": "code",
   "execution_count": null,
   "metadata": {},
   "outputs": [
    {
     "data": {
      "text/html": [
       "<div>\n",
       "<style scoped>\n",
       "    .dataframe tbody tr th:only-of-type {\n",
       "        vertical-align: middle;\n",
       "    }\n",
       "\n",
       "    .dataframe tbody tr th {\n",
       "        vertical-align: top;\n",
       "    }\n",
       "\n",
       "    .dataframe thead th {\n",
       "        text-align: right;\n",
       "    }\n",
       "</style>\n",
       "<table border=\"1\" class=\"dataframe\">\n",
       "  <thead>\n",
       "    <tr style=\"text-align: right;\">\n",
       "      <th></th>\n",
       "      <th>id</th>\n",
       "      <th>formula</th>\n",
       "      <th>structure</th>\n",
       "      <th>energies</th>\n",
       "      <th>absorption_coefficient</th>\n",
       "      <th>imag_dielectric</th>\n",
       "      <th>real_dielectric</th>\n",
       "      <th>energy_max</th>\n",
       "      <th>bandgap</th>\n",
       "    </tr>\n",
       "  </thead>\n",
       "  <tbody>\n",
       "    <tr>\n",
       "      <th>0</th>\n",
       "      <td>mp-546266</td>\n",
       "      <td>DyBi2IO4</td>\n",
       "      <td>(Atom('Dy', [np.float64(0.0), np.float64(0.0),...</td>\n",
       "      <td>[0.0, 0.0277, 0.0554, 0.0831, 0.1109, 0.1386, ...</td>\n",
       "      <td>[0.0, 0.8362304735329499, 3.309178082718349, 7...</td>\n",
       "      <td>[0.0, 0.0015666666666666665, 0.0031, 0.0046666...</td>\n",
       "      <td>[6.9163, 6.916533333333334, 6.9172, 6.9182, 6....</td>\n",
       "      <td>55.4328</td>\n",
       "      <td>1.3818000000000001</td>\n",
       "    </tr>\n",
       "    <tr>\n",
       "      <th>1</th>\n",
       "      <td>mp-9583</td>\n",
       "      <td>K2ZnF4</td>\n",
       "      <td>(Atom('K', [np.float64(1.2531985199117757), np...</td>\n",
       "      <td>[0.0, 0.0399, 0.0798, 0.1197, 0.1596, 0.1995, ...</td>\n",
       "      <td>[0.0, 0.1362578822994739, 0.4541860898852432, ...</td>\n",
       "      <td>[0.0, 0.0001, 0.00016666666666666666, 0.0002, ...</td>\n",
       "      <td>[2.2021333333333333, 2.202166666666667, 2.2022...</td>\n",
       "      <td>79.7804</td>\n",
       "      <td>4.3866</td>\n",
       "    </tr>\n",
       "    <tr>\n",
       "      <th>2</th>\n",
       "      <td>mp-22988</td>\n",
       "      <td>CsGeCl3</td>\n",
       "      <td>(Atom('Cs', [np.float64(7.78333021211009), np....</td>\n",
       "      <td>[0.0, 0.029, 0.058, 0.087, 0.116, 0.1449, 0.17...</td>\n",
       "      <td>[0.0, 0.515935972729374, 2.0145311056971553, 4...</td>\n",
       "      <td>[0.0, 0.0007, 0.0013666666666666669, 0.0020333...</td>\n",
       "      <td>[3.975733333333333, 3.9758333333333336, 3.9761...</td>\n",
       "      <td>57.9759</td>\n",
       "      <td>2.178</td>\n",
       "    </tr>\n",
       "    <tr>\n",
       "      <th>3</th>\n",
       "      <td>mp-861502</td>\n",
       "      <td>AcFeO3</td>\n",
       "      <td>(Atom('Ac', [np.float64(0.0), np.float64(0.0),...</td>\n",
       "      <td>[0.0, 0.0587, 0.1174, 0.176, 0.2347, 0.2934, 0...</td>\n",
       "      <td>[0.0, 11295.053197761259, 44864.495977063896, ...</td>\n",
       "      <td>[0.0, 30.1914, 49.9196, 37.98413333333333, 21....</td>\n",
       "      <td>[67.54320000000001, 59.6215, 29.6067, 1.281, -...</td>\n",
       "      <td>117.3625</td>\n",
       "      <td>0.0</td>\n",
       "    </tr>\n",
       "    <tr>\n",
       "      <th>4</th>\n",
       "      <td>mp-1025029</td>\n",
       "      <td>PrHSe</td>\n",
       "      <td>(Atom('Pr', [np.float64(-2.0265362), np.float6...</td>\n",
       "      <td>[0.0, 0.0365, 0.073, 0.1095, 0.1459, 0.1824, 0...</td>\n",
       "      <td>[0.0, 1.6849892209331498, 6.697792903781345, 1...</td>\n",
       "      <td>[0.0, 0.0026999999999999997, 0.005366666666666...</td>\n",
       "      <td>[8.784633333333334, 8.7851, 8.786566666666667,...</td>\n",
       "      <td>72.9718</td>\n",
       "      <td>1.9455999999999998</td>\n",
       "    </tr>\n",
       "  </tbody>\n",
       "</table>\n",
       "</div>"
      ],
      "text/plain": [
       "           id   formula                                          structure  \\\n",
       "0   mp-546266  DyBi2IO4  (Atom('Dy', [np.float64(0.0), np.float64(0.0),...   \n",
       "1     mp-9583    K2ZnF4  (Atom('K', [np.float64(1.2531985199117757), np...   \n",
       "2    mp-22988   CsGeCl3  (Atom('Cs', [np.float64(7.78333021211009), np....   \n",
       "3   mp-861502    AcFeO3  (Atom('Ac', [np.float64(0.0), np.float64(0.0),...   \n",
       "4  mp-1025029     PrHSe  (Atom('Pr', [np.float64(-2.0265362), np.float6...   \n",
       "\n",
       "                                            energies  \\\n",
       "0  [0.0, 0.0277, 0.0554, 0.0831, 0.1109, 0.1386, ...   \n",
       "1  [0.0, 0.0399, 0.0798, 0.1197, 0.1596, 0.1995, ...   \n",
       "2  [0.0, 0.029, 0.058, 0.087, 0.116, 0.1449, 0.17...   \n",
       "3  [0.0, 0.0587, 0.1174, 0.176, 0.2347, 0.2934, 0...   \n",
       "4  [0.0, 0.0365, 0.073, 0.1095, 0.1459, 0.1824, 0...   \n",
       "\n",
       "                              absorption_coefficient  \\\n",
       "0  [0.0, 0.8362304735329499, 3.309178082718349, 7...   \n",
       "1  [0.0, 0.1362578822994739, 0.4541860898852432, ...   \n",
       "2  [0.0, 0.515935972729374, 2.0145311056971553, 4...   \n",
       "3  [0.0, 11295.053197761259, 44864.495977063896, ...   \n",
       "4  [0.0, 1.6849892209331498, 6.697792903781345, 1...   \n",
       "\n",
       "                                     imag_dielectric  \\\n",
       "0  [0.0, 0.0015666666666666665, 0.0031, 0.0046666...   \n",
       "1  [0.0, 0.0001, 0.00016666666666666666, 0.0002, ...   \n",
       "2  [0.0, 0.0007, 0.0013666666666666669, 0.0020333...   \n",
       "3  [0.0, 30.1914, 49.9196, 37.98413333333333, 21....   \n",
       "4  [0.0, 0.0026999999999999997, 0.005366666666666...   \n",
       "\n",
       "                                     real_dielectric energy_max  \\\n",
       "0  [6.9163, 6.916533333333334, 6.9172, 6.9182, 6....    55.4328   \n",
       "1  [2.2021333333333333, 2.202166666666667, 2.2022...    79.7804   \n",
       "2  [3.975733333333333, 3.9758333333333336, 3.9761...    57.9759   \n",
       "3  [67.54320000000001, 59.6215, 29.6067, 1.281, -...   117.3625   \n",
       "4  [8.784633333333334, 8.7851, 8.786566666666667,...    72.9718   \n",
       "\n",
       "              bandgap  \n",
       "0  1.3818000000000001  \n",
       "1              4.3866  \n",
       "2               2.178  \n",
       "3                 0.0  \n",
       "4  1.9455999999999998  "
      ]
     },
     "execution_count": 1,
     "metadata": {},
     "output_type": "execute_result"
    }
   ],
   "source": [
    "import pandas as pd\n",
    "path = f\"{dataset}/absorption_mp_data.pkl\"\n",
    "the_data = pd.read_pickle(path)\n",
    "the_data.head()\n"
   ]
  },
  {
   "cell_type": "code",
   "execution_count": 53,
   "metadata": {},
   "outputs": [
    {
     "name": "stdout",
     "output_type": "stream",
     "text": [
      "[np.int64(19), 0, array([1.25319852, 1.36802722, 4.23786864]), 'K']\n",
      "[np.int64(19), 1, array([2.28261998, 2.49177349, 0.58759095]), 'K']\n",
      "[np.int64(30), 2, array([0., 0., 0.]), 'Zn']\n",
      "[np.int64(9), 3, array([ 1.93927993,  0.        , -0.5734718 ]), 'F']\n",
      "[np.int64(9), 4, array([-0.16958371,  1.93185129, -0.5734718 ]), 'F']\n",
      "[np.int64(9), 5, array([2.98702846, 3.26072587, 2.96963795]), 'F']\n",
      "[np.int64(9), 6, array([0.54879004, 0.59907484, 1.85582164]), 'F']\n"
     ]
    }
   ],
   "source": [
    "a_structure = the_data[\"structure\"][1]\n",
    "for i in a_structure:\n",
    "    #print(type(i))\n",
    "    print([i.number, i.index, i.position, i.symbol])\n",
    "    '''\n",
    "    print(i.position)\n",
    "    print(i.index)\n",
    "    print(i.number)'''"
   ]
  },
  {
   "cell_type": "code",
   "execution_count": 46,
   "metadata": {},
   "outputs": [
    {
     "name": "stdout",
     "output_type": "stream",
     "text": [
      "Dy\n",
      "Bi\n",
      "Bi\n",
      "0.0\n"
     ]
    }
   ],
   "source": [
    "from ase import Atoms\n",
    "\n",
    "atom_0 = a_structure[0].symbol\n",
    "#, a_structure[0].position\n",
    "print(atom_0)\n",
    "#atom_1 = a_structure[1].symbol\n",
    "#, a_structure[1].position\n",
    "print(atom_1)\n",
    "atom_2 = a_structure[2].symbol\n",
    "print(atom_2)\n",
    "atoms = Atoms([atom_0, atom_2])\n",
    "\n",
    "distance = atoms.get_distance(0,1)\n",
    "print(distance)"
   ]
  },
  {
   "cell_type": "code",
   "execution_count": 61,
   "metadata": {},
   "outputs": [
    {
     "name": "stdout",
     "output_type": "stream",
     "text": [
      "[['K', array([1.25319852, 1.36802722, 4.23786864])], ['K', array([2.28261998, 2.49177349, 0.58759095])], ['Zn', array([0., 0., 0.])], ['F', array([ 1.93927993,  0.        , -0.5734718 ])], ['F', array([-0.16958371,  1.93185129, -0.5734718 ])], ['F', array([2.98702846, 3.26072587, 2.96963795])], ['F', array([0.54879004, 0.59907484, 1.85582164])]]\n"
     ]
    },
    {
     "ename": "AttributeError",
     "evalue": "'list' object has no attribute 'get_bonds'",
     "output_type": "error",
     "traceback": [
      "\u001b[31m---------------------------------------------------------------------------\u001b[39m",
      "\u001b[31mAttributeError\u001b[39m                            Traceback (most recent call last)",
      "\u001b[36mCell\u001b[39m\u001b[36m \u001b[39m\u001b[32mIn[61]\u001b[39m\u001b[32m, line 9\u001b[39m\n\u001b[32m      5\u001b[39m     list_atoms.append(a_symbol)\n\u001b[32m      6\u001b[39m \u001b[38;5;28mprint\u001b[39m(list_atoms)\n\u001b[32m----> \u001b[39m\u001b[32m9\u001b[39m bonds =\u001b[43mlist_atoms\u001b[49m\u001b[43m[\u001b[49m\u001b[32;43m0\u001b[39;49m\u001b[43m]\u001b[49m\u001b[43m.\u001b[49m\u001b[43mget_bonds\u001b[49m(list_atoms[\u001b[32m1\u001b[39m])\n\u001b[32m     10\u001b[39m \u001b[38;5;28mprint\u001b[39m(bonds)\n",
      "\u001b[31mAttributeError\u001b[39m: 'list' object has no attribute 'get_bonds'"
     ]
    }
   ],
   "source": [
    "from ase import Atoms\n",
    "list_atoms = []\n",
    "for i in a_structure:\n",
    "    a_symbol = [i.symbol, i.position]\n",
    "    list_atoms.append(a_symbol)\n",
    "print(list_atoms)\n",
    "\n",
    "\n",
    "bonds =list_atoms[0].get_bonds(list_atoms[1])\n",
    "print(bonds)"
   ]
  },
  {
   "cell_type": "code",
   "execution_count": 25,
   "metadata": {},
   "outputs": [
    {
     "name": "stdout",
     "output_type": "stream",
     "text": [
      "Dy Bi\n"
     ]
    }
   ],
   "source": [
    "print(a_structure.symbols[0],(a_structure.symbols[1]))"
   ]
  },
  {
   "cell_type": "code",
   "execution_count": null,
   "metadata": {},
   "outputs": [
    {
     "data": {
      "text/plain": [
       "2001"
      ]
     },
     "execution_count": 47,
     "metadata": {},
     "output_type": "execute_result"
    }
   ],
   "source": [
    "#the_data[\"energies\"]\n",
    "#energy_0 = np.size(the_data[\"energies\"][0])\n",
    "#abs_cof = np.size(the_data[\"absorption_coefficient\"][0])\n",
    "#ima_diel = np.size(the_data[\"imag_dielectric\"][0])\n",
    "rel_diel = np.size(the_data[\"real_dielectric\"][0])\n",
    "\n",
    "'''energy_0 = the_data[\"energies\"][0]\n",
    "i = 0\n",
    "for x in energy_0:\n",
    "    i = i +1\n",
    "\n",
    "print(i)'''\n",
    "rel_diel"
   ]
  },
  {
   "cell_type": "code",
   "execution_count": 64,
   "metadata": {},
   "outputs": [
    {
     "name": "stdout",
     "output_type": "stream",
     "text": [
      "Bond between atom 0 (K) and 1 (K) - Distance: 3.79 Å\n",
      "Bond between atom 0 (K) and 4 (F) - Distance: 2.77 Å\n",
      "Bond between atom 0 (K) and 5 (F) - Distance: 2.86 Å\n",
      "Bond between atom 0 (K) and 6 (F) - Distance: 2.60 Å\n",
      "Bond between atom 0 (K) and 1 (K) - Distance: 3.79 Å\n",
      "Bond between atom 0 (K) and 2 (Zn) - Distance: 3.43 Å\n",
      "Bond between atom 0 (K) and 3 (F) - Distance: 2.77 Å\n",
      "Bond between atom 0 (K) and 2 (Zn) - Distance: 3.43 Å\n",
      "Bond between atom 0 (K) and 3 (F) - Distance: 2.77 Å\n",
      "Bond between atom 0 (K) and 2 (Zn) - Distance: 3.43 Å\n",
      "Bond between atom 0 (K) and 2 (Zn) - Distance: 3.43 Å\n",
      "Bond between atom 0 (K) and 1 (K) - Distance: 3.79 Å\n",
      "Bond between atom 0 (K) and 1 (K) - Distance: 3.79 Å\n",
      "Bond between atom 0 (K) and 1 (K) - Distance: 3.79 Å\n",
      "Bond between atom 0 (K) and 4 (F) - Distance: 2.77 Å\n",
      "Bond between atom 0 (K) and 5 (F) - Distance: 2.86 Å\n",
      "Bond between atom 0 (K) and 5 (F) - Distance: 2.86 Å\n",
      "Bond between atom 0 (K) and 5 (F) - Distance: 2.86 Å\n",
      "Bond between atom 1 (K) and 2 (Zn) - Distance: 3.43 Å\n",
      "Bond between atom 1 (K) and 3 (F) - Distance: 2.77 Å\n",
      "Bond between atom 1 (K) and 5 (F) - Distance: 2.60 Å\n",
      "Bond between atom 1 (K) and 6 (F) - Distance: 2.86 Å\n",
      "Bond between atom 1 (K) and 2 (Zn) - Distance: 3.43 Å\n",
      "Bond between atom 1 (K) and 3 (F) - Distance: 2.77 Å\n",
      "Bond between atom 1 (K) and 6 (F) - Distance: 2.86 Å\n",
      "Bond between atom 1 (K) and 2 (Zn) - Distance: 3.43 Å\n",
      "Bond between atom 1 (K) and 6 (F) - Distance: 2.86 Å\n",
      "Bond between atom 1 (K) and 2 (Zn) - Distance: 3.43 Å\n",
      "Bond between atom 1 (K) and 6 (F) - Distance: 2.86 Å\n",
      "Bond between atom 1 (K) and 4 (F) - Distance: 2.77 Å\n",
      "Bond between atom 1 (K) and 4 (F) - Distance: 2.77 Å\n",
      "Bond between atom 2 (Zn) and 3 (F) - Distance: 2.02 Å\n",
      "Bond between atom 2 (Zn) and 6 (F) - Distance: 2.03 Å\n",
      "Bond between atom 2 (Zn) and 3 (F) - Distance: 2.02 Å\n",
      "Bond between atom 2 (Zn) and 4 (F) - Distance: 2.02 Å\n",
      "Bond between atom 2 (Zn) and 4 (F) - Distance: 2.02 Å\n",
      "Bond between atom 2 (Zn) and 5 (F) - Distance: 2.03 Å\n"
     ]
    }
   ],
   "source": [
    "#from ase import Atoms\n",
    "from ase.neighborlist import NeighborList, natural_cutoffs\n",
    "\n",
    "# Example molecule: Water\n",
    "#atoms = Atoms('H2O', positions=[[0, 0, 0], [0, 0.76, 0.58], [0, -0.76, 0.58]])\n",
    "#atoms = Atoms(a_structure.symbols, a_structure.positions)\n",
    "atoms = a_structure\n",
    "# Step 1: Compute cutoffs for each atom (heuristic for bonding radius)\n",
    "cutoffs = natural_cutoffs(atoms)\n",
    "\n",
    "# Step 2: Build neighbor list\n",
    "nl = NeighborList(cutoffs, self_interaction=False, bothways=True)\n",
    "nl.update(atoms)\n",
    "\n",
    "# Step 3: Loop over all atoms to get bonded neighbors (edges)\n",
    "bonds = []\n",
    "for i in range(len(atoms)):\n",
    "    indices, offsets = nl.get_neighbors(i)\n",
    "    for j, offset in zip(indices, offsets):\n",
    "        if i < j:  # avoid double counting\n",
    "            distance = atoms.get_distance(i, j, mic=True)\n",
    "            bonds.append(((i, j), distance))\n",
    "\n",
    "# Display edge (bond) info\n",
    "for (i, j), dist in bonds:\n",
    "    print(f\"Bond between atom {i} ({atoms[i].symbol}) and {j} ({atoms[j].symbol}) - Distance: {dist:.2f} Å\")"
   ]
  },
  {
   "cell_type": "code",
   "execution_count": null,
   "metadata": {},
   "outputs": [],
   "source": []
  }
 ],
 "metadata": {
  "kernelspec": {
   "display_name": "MUTUSE",
   "language": "python",
   "name": "python3"
  },
  "language_info": {
   "codemirror_mode": {
    "name": "ipython",
    "version": 3
   },
   "file_extension": ".py",
   "mimetype": "text/x-python",
   "name": "python",
   "nbconvert_exporter": "python",
   "pygments_lexer": "ipython3",
   "version": "3.13.3"
  }
 },
 "nbformat": 4,
 "nbformat_minor": 2
}
