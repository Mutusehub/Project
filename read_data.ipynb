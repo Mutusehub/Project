{
 "cells": [
  {
   "cell_type": "code",
   "execution_count": null,
   "metadata": {},
   "outputs": [],
   "source": [
    "import sys\n",
    "\n",
    "if \"google.colab\" in sys.modules:\n",
    "    # Mount Google Drive\n",
    "    from google.colab import drive\n",
    "    drive.mount('/content/drive')\n",
    "\n",
    "    # Install required packages\n",
    "    !pip install ase torch_geometric\n",
    "    import torch\n",
    "    from torch_geometric.data import Data, DataLoader\n",
    "\n",
    "    dataset = \"/content/drive/My Drive/Dataset\"\n",
    "else:\n",
    "    dataset = \"Dataset\""
   ]
  },
  {
   "cell_type": "code",
   "execution_count": null,
   "metadata": {},
   "outputs": [],
   "source": [
    "import pandas as pd\n",
    "path = f\"{dataset}/absorption_mp_data.pkl\"\n",
    "the_data = pd.read_pickle(path)\n",
    "the_data.head()\n"
   ]
  },
  {
   "cell_type": "code",
   "execution_count": null,
   "metadata": {},
   "outputs": [],
   "source": [
    "a_structure = the_data[\"structure\"][1]\n",
    "for i in a_structure:\n",
    "    #print(type(i))\n",
    "    print([i.number, i.index, i.position, i.symbol])\n",
    "    '''\n",
    "    print(i.position)\n",
    "    print(i.index)\n",
    "    print(i.number)'''"
   ]
  },
  {
   "cell_type": "code",
   "execution_count": null,
   "metadata": {},
   "outputs": [],
   "source": [
    "from ase import Atoms\n",
    "\n",
    "atom_0 = a_structure[0].symbol\n",
    "#, a_structure[0].position\n",
    "print(atom_0)\n",
    "#atom_1 = a_structure[1].symbol\n",
    "#, a_structure[1].position\n",
    "print(atom_1)\n",
    "atom_2 = a_structure[2].symbol\n",
    "print(atom_2)\n",
    "atoms = Atoms([atom_0, atom_2])\n",
    "\n",
    "distance = atoms.get_distance(0,1)\n",
    "print(distance)"
   ]
  },
  {
   "cell_type": "code",
   "execution_count": null,
   "metadata": {},
   "outputs": [],
   "source": [
    "from ase import Atoms\n",
    "list_atoms = []\n",
    "for i in a_structure:\n",
    "    a_symbol = [i.symbol, i.position]\n",
    "    list_atoms.append(a_symbol)\n",
    "print(list_atoms)\n",
    "\n",
    "\n",
    "bonds =list_atoms[0].get_bonds(list_atoms[1])\n",
    "print(bonds)"
   ]
  },
  {
   "cell_type": "code",
   "execution_count": null,
   "metadata": {},
   "outputs": [],
   "source": [
    "print(a_structure.symbols[0],(a_structure.symbols[1]))"
   ]
  },
  {
   "cell_type": "code",
   "execution_count": null,
   "metadata": {},
   "outputs": [],
   "source": [
    "#the_data[\"energies\"]\n",
    "#energy_0 = np.size(the_data[\"energies\"][0])\n",
    "#abs_cof = np.size(the_data[\"absorption_coefficient\"][0])\n",
    "#ima_diel = np.size(the_data[\"imag_dielectric\"][0])\n",
    "rel_diel = np.size(the_data[\"real_dielectric\"][0])\n",
    "\n",
    "'''energy_0 = the_data[\"energies\"][0]\n",
    "i = 0\n",
    "for x in energy_0:\n",
    "    i = i +1\n",
    "\n",
    "print(i)'''\n",
    "rel_diel"
   ]
  },
  {
   "cell_type": "code",
   "execution_count": null,
   "metadata": {},
   "outputs": [],
   "source": [
    "#from ase import Atoms\n",
    "from ase.neighborlist import NeighborList, natural_cutoffs\n",
    "\n",
    "# Example molecule: Water\n",
    "#atoms = Atoms('H2O', positions=[[0, 0, 0], [0, 0.76, 0.58], [0, -0.76, 0.58]])\n",
    "#atoms = Atoms(a_structure.symbols, a_structure.positions)\n",
    "atoms = a_structure\n",
    "# Step 1: Compute cutoffs for each atom (heuristic for bonding radius)\n",
    "cutoffs = natural_cutoffs(atoms)\n",
    "\n",
    "# Step 2: Build neighbor list\n",
    "nl = NeighborList(cutoffs, self_interaction=False, bothways=True)\n",
    "nl.update(atoms)\n",
    "\n",
    "# Step 3: Loop over all atoms to get bonded neighbors (edges)\n",
    "bonds = []\n",
    "for i in range(len(atoms)):\n",
    "    indices, offsets = nl.get_neighbors(i)\n",
    "    for j, offset in zip(indices, offsets):\n",
    "        if i < j:  # avoid double counting\n",
    "            distance = atoms.get_distance(i, j, mic=True)\n",
    "            bonds.append(((i, j), distance))\n",
    "\n",
    "# Display edge (bond) info\n",
    "for (i, j), dist in bonds:\n",
    "    print(f\"Bond between atom {i} ({atoms[i].symbol}) and {j} ({atoms[j].symbol}) - Distance: {dist:.2f} Å\")"
   ]
  },
  {
   "cell_type": "code",
   "execution_count": null,
   "metadata": {},
   "outputs": [],
   "source": []
  }
 ],
 "metadata": {
  "kernelspec": {
   "display_name": "MUTUSE",
   "language": "python",
   "name": "python3"
  },
  "language_info": {
   "codemirror_mode": {
    "name": "ipython",
    "version": 3
   },
   "file_extension": ".py",
   "mimetype": "text/x-python",
   "name": "python",
   "nbconvert_exporter": "python",
   "pygments_lexer": "ipython3",
   "version": "3.13.3"
  }
 },
 "nbformat": 4,
 "nbformat_minor": 2
}
